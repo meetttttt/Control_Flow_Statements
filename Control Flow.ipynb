{
 "cells": [
  {
   "cell_type": "markdown",
   "id": "3e86bb7a-cc03-476e-a14f-e5998d232894",
   "metadata": {},
   "source": [
    "# Basic If-Else Statements:"
   ]
  },
  {
   "cell_type": "markdown",
   "id": "a2b7ad64-4f9c-47f4-bfc1-7075cdd7c0d0",
   "metadata": {},
   "source": [
    "1. Write a Python program to check if a given number is positive or negative."
   ]
  },
  {
   "cell_type": "code",
   "execution_count": 3,
   "id": "12098880-bbf4-4376-9ddf-191b30ba7e4c",
   "metadata": {},
   "outputs": [
    {
     "name": "stdin",
     "output_type": "stream",
     "text": [
      "Enter a number:  10\n"
     ]
    },
    {
     "name": "stdout",
     "output_type": "stream",
     "text": [
      "The number is positive.\n"
     ]
    }
   ],
   "source": [
    "# Input: Get the number from the user\n",
    "number = float(input(\"Enter a number: \"))\n",
    "\n",
    "# Check if the number is positive, negative, or zero\n",
    "if number > 0:\n",
    "    print(\"The number is positive.\")\n",
    "if number < 0:\n",
    "    print(\"The number is negative.\")\n",
    "else:\n",
    "    print(\"The number is zero.\")\n"
   ]
  },
  {
   "cell_type": "markdown",
   "id": "b36c17e0-4cf5-479c-b189-9895a9fa3520",
   "metadata": {},
   "source": [
    "2. Create a program that determines if a person is eligible to vote based on their age."
   ]
  },
  {
   "cell_type": "code",
   "execution_count": 4,
   "id": "e458872a-156b-4d16-a3a4-4a96263b1aaa",
   "metadata": {},
   "outputs": [
    {
     "name": "stdin",
     "output_type": "stream",
     "text": [
      "Enter your age:  24\n"
     ]
    },
    {
     "name": "stdout",
     "output_type": "stream",
     "text": [
      "You are eligible to vote.\n"
     ]
    }
   ],
   "source": [
    "# Input: Get the person's age from the user\n",
    "age = int(input(\"Enter your age: \"))\n",
    "\n",
    "# Check if the person is eligible to vote\n",
    "if age >= 18:\n",
    "    print(\"You are eligible to vote.\")\n",
    "else:\n",
    "    print(\"You are not eligible to vote yet.\")\n"
   ]
  },
  {
   "cell_type": "markdown",
   "id": "ad220732-3ad3-423b-8c11-a5736ffc2e53",
   "metadata": {},
   "source": [
    "3. Develop a program to find the maximum of two numbers using if-else statements."
   ]
  },
  {
   "cell_type": "code",
   "execution_count": 5,
   "id": "56239951-0310-4e1f-bfef-b39beb75c72b",
   "metadata": {},
   "outputs": [
    {
     "name": "stdin",
     "output_type": "stream",
     "text": [
      "Enter the first number:  52\n",
      "Enter the second number:  5\n"
     ]
    },
    {
     "name": "stdout",
     "output_type": "stream",
     "text": [
      "The maximum number is: 52.0\n"
     ]
    }
   ],
   "source": [
    "# Input: Get two numbers from the user\n",
    "num1 = float(input(\"Enter the first number: \"))\n",
    "num2 = float(input(\"Enter the second number: \"))\n",
    "\n",
    "# Compare the two numbers and find the maximum\n",
    "if num1 > num2:\n",
    "    maximum = num1\n",
    "else:\n",
    "    maximum = num2\n",
    "\n",
    "# Print the maximum number\n",
    "print(\"The maximum number is:\", maximum)\n"
   ]
  },
  {
   "cell_type": "markdown",
   "id": "9682e915-61d3-48b6-b579-6ab892086664",
   "metadata": {},
   "source": [
    "4. Write a Python script to classify a given year as a leap year or not."
   ]
  },
  {
   "cell_type": "code",
   "execution_count": 6,
   "id": "375e0932-7d06-48b2-b620-de948bfa2e1b",
   "metadata": {},
   "outputs": [
    {
     "name": "stdin",
     "output_type": "stream",
     "text": [
      "Enter a year:  2023\n"
     ]
    },
    {
     "name": "stdout",
     "output_type": "stream",
     "text": [
      "2023 is not a leap year.\n"
     ]
    }
   ],
   "source": [
    "# Input: Get the year from the user\n",
    "year = int(input(\"Enter a year: \"))\n",
    "\n",
    "# Check if it's a leap year\n",
    "if (year % 4 == 0 and year % 100 != 0) or (year % 400 == 0):\n",
    "    print(year, \"is a leap year.\")\n",
    "else:\n",
    "    print(year, \"is not a leap year.\")\n"
   ]
  },
  {
   "cell_type": "markdown",
   "id": "d612e156-1f83-4cba-90e0-fe4261a6ffd8",
   "metadata": {},
   "source": [
    "5. Create a program that checks whether a character is a vowel or a consonant."
   ]
  },
  {
   "cell_type": "code",
   "execution_count": 7,
   "id": "9d3fdb5b-3d97-4660-afbd-68f3b19ae677",
   "metadata": {},
   "outputs": [
    {
     "name": "stdin",
     "output_type": "stream",
     "text": [
      "Enter a character:  A\n"
     ]
    },
    {
     "name": "stdout",
     "output_type": "stream",
     "text": [
      "a is a vowel.\n"
     ]
    }
   ],
   "source": [
    "# Input: Get a character from the user (assuming a single character)\n",
    "character = input(\"Enter a character: \")\n",
    "\n",
    "# Ensure that the input is a single character\n",
    "if len(character) == 1:\n",
    "    # Convert the character to lowercase to handle both cases\n",
    "    character = character.lower()\n",
    "\n",
    "    # Check if it's a vowel or a consonant\n",
    "    if character in 'aeiou':\n",
    "        print(character, \"is a vowel.\")\n",
    "    else:\n",
    "        print(character, \"is a consonant.\")\n",
    "else:\n",
    "    print(\"Please enter a single character.\")\n"
   ]
  },
  {
   "cell_type": "markdown",
   "id": "18675bb2-4556-419d-b571-2e05a1321e43",
   "metadata": {},
   "source": [
    "6. Implement a program to determine whether a given number is even or odd."
   ]
  },
  {
   "cell_type": "code",
   "execution_count": 8,
   "id": "379e8539-04af-4c9f-b94a-2f25a3b31f50",
   "metadata": {},
   "outputs": [
    {
     "name": "stdin",
     "output_type": "stream",
     "text": [
      "Enter a number:  777\n"
     ]
    },
    {
     "name": "stdout",
     "output_type": "stream",
     "text": [
      "777 is an odd number.\n"
     ]
    }
   ],
   "source": [
    "# Input: Get a number from the user\n",
    "number = int(input(\"Enter a number: \"))\n",
    "\n",
    "# Check if the number is even or odd\n",
    "if number % 2 == 0:\n",
    "    print(number, \"is an even number.\")\n",
    "else:\n",
    "    print(number, \"is an odd number.\")\n"
   ]
  },
  {
   "cell_type": "markdown",
   "id": "29533327-89ac-44ab-bc8c-78d911fd8abc",
   "metadata": {},
   "source": [
    "7. Write a Python function to calculate the absolute value of a number without using the `abs()` function."
   ]
  },
  {
   "cell_type": "code",
   "execution_count": 9,
   "id": "bb4f9329-1092-4a23-b036-305594e967d2",
   "metadata": {},
   "outputs": [
    {
     "name": "stdin",
     "output_type": "stream",
     "text": [
      "Enter a number:  -9\n"
     ]
    },
    {
     "name": "stdout",
     "output_type": "stream",
     "text": [
      "The absolute value is: 9.0\n"
     ]
    }
   ],
   "source": [
    "def absolute_value(number):\n",
    "    if number < 0:\n",
    "        return -number\n",
    "    else:\n",
    "        return number\n",
    "\n",
    "# Test the function\n",
    "num = float(input(\"Enter a number: \"))  # Get a number from the user\n",
    "result = absolute_value(num)\n",
    "print(\"The absolute value is:\", result)\n"
   ]
  },
  {
   "cell_type": "markdown",
   "id": "014ccd27-8584-41da-ba95-b442396b92bf",
   "metadata": {},
   "source": [
    "8. Develop a program that determines the largest of three given numbers using if-else statements."
   ]
  },
  {
   "cell_type": "code",
   "execution_count": 10,
   "id": "228a5822-45e4-4374-b4b1-f741c6c59396",
   "metadata": {},
   "outputs": [
    {
     "name": "stdin",
     "output_type": "stream",
     "text": [
      "Enter the first number:  10\n",
      "Enter the second number:  20\n",
      "Enter the third number:  20\n"
     ]
    },
    {
     "name": "stdout",
     "output_type": "stream",
     "text": [
      "The largest number is: 20.0\n"
     ]
    }
   ],
   "source": [
    "# Input: Get three numbers from the user\n",
    "num1 = float(input(\"Enter the first number: \"))\n",
    "num2 = float(input(\"Enter the second number: \"))\n",
    "num3 = float(input(\"Enter the third number: \"))\n",
    "\n",
    "# Compare the three numbers to find the largest\n",
    "if num1 >= num2 and num1 >= num3:\n",
    "    largest = num1\n",
    "if num2 >= num1 and num2 >= num3:\n",
    "    largest = num2\n",
    "else:\n",
    "    largest = num3\n",
    "\n",
    "# Print the largest number\n",
    "print(\"The largest number is:\", largest)\n"
   ]
  },
  {
   "cell_type": "markdown",
   "id": "0cc4c729-3409-404c-8d43-96c0b7cd3286",
   "metadata": {},
   "source": [
    "9. Create a program that checks if a given string is a palindrome."
   ]
  },
  {
   "cell_type": "code",
   "execution_count": 12,
   "id": "750c40ec-0585-45a5-a641-925d2a93b63b",
   "metadata": {},
   "outputs": [
    {
     "name": "stdin",
     "output_type": "stream",
     "text": [
      "Enter a string:  121\n"
     ]
    },
    {
     "name": "stdout",
     "output_type": "stream",
     "text": [
      "The string is a palindrome.\n"
     ]
    }
   ],
   "source": [
    "# Input: Get a string from the user\n",
    "string = input(\"Enter a string: \")\n",
    "\n",
    "# Remove spaces and convert to lowercase for accurate palindrome check\n",
    "cleaned_string = string.replace(\" \", \"\").lower()\n",
    "\n",
    "# Check if the cleaned string is equal to its reverse\n",
    "if cleaned_string == cleaned_string[::-1]:\n",
    "    print(\"The string is a palindrome.\")\n",
    "else:\n",
    "    print(\"The string is not a palindrome.\")\n"
   ]
  },
  {
   "cell_type": "markdown",
   "id": "b6387017-a518-4b9c-bceb-074443bbaf87",
   "metadata": {},
   "source": [
    "10. Write a Python program to calculate the grade based on a student's score.\n",
    "Nested If-Else Statements:"
   ]
  },
  {
   "cell_type": "code",
   "execution_count": 35,
   "id": "13a47fe0-6898-4320-8e62-cfc665a8e388",
   "metadata": {},
   "outputs": [
    {
     "name": "stdin",
     "output_type": "stream",
     "text": [
      "Enter the student's score:  35\n"
     ]
    },
    {
     "name": "stdout",
     "output_type": "stream",
     "text": [
      "The student's grade is: F\n"
     ]
    }
   ],
   "source": [
    "# Input: Get the student's score from the user\n",
    "score = float(input(\"Enter the student's score: \"))\n",
    "\n",
    "# Check the score and calculate the grade\n",
    "if score >= 90:\n",
    "    grade = 'A'\n",
    "if score >= 80:\n",
    "    grade = 'B'\n",
    "if score >= 70:\n",
    "    grade = 'C'\n",
    "if score >= 60:\n",
    "    grade = 'D'\n",
    "else:\n",
    "    grade = 'F'\n",
    "\n",
    "# Print the calculated grade\n",
    "print(\"The student's grade is:\", grade)\n"
   ]
  },
  {
   "cell_type": "markdown",
   "id": "d523e806-32f2-4e46-a0d6-8ce32a9ce327",
   "metadata": {},
   "source": [
    "11. Write a program to find the largest among three numbers using nested if-else statements."
   ]
  },
  {
   "cell_type": "code",
   "execution_count": 14,
   "id": "01c23c48-5b04-4ca5-b628-64b02fbe3502",
   "metadata": {},
   "outputs": [
    {
     "name": "stdin",
     "output_type": "stream",
     "text": [
      "Enter the first number:  12\n",
      "Enter the second number:  5\n",
      "Enter the third number:  65\n"
     ]
    },
    {
     "name": "stdout",
     "output_type": "stream",
     "text": [
      "The largest number is: 65.0\n"
     ]
    }
   ],
   "source": [
    "# Input: Get three numbers from the user\n",
    "num1 = float(input(\"Enter the first number: \"))\n",
    "num2 = float(input(\"Enter the second number: \"))\n",
    "num3 = float(input(\"Enter the third number: \"))\n",
    "\n",
    "# Check the numbers to find the largest\n",
    "if num1 >= num2:\n",
    "    if num1 >= num3:\n",
    "        largest = num1\n",
    "    else:\n",
    "        largest = num3\n",
    "else:\n",
    "    if num2 >= num3:\n",
    "        largest = num2\n",
    "    else:\n",
    "        largest = num3\n",
    "\n",
    "# Print the largest number\n",
    "print(\"The largest number is:\", largest)\n"
   ]
  },
  {
   "cell_type": "markdown",
   "id": "23903e73-3475-45ba-9143-d9b09a60d770",
   "metadata": {},
   "source": [
    "12. Implement a program to determine if a triangle is equilateral, isosceles, or scalene."
   ]
  },
  {
   "cell_type": "code",
   "execution_count": 15,
   "id": "3a87a758-7e8e-449c-8679-f53717fac1a1",
   "metadata": {},
   "outputs": [
    {
     "name": "stdin",
     "output_type": "stream",
     "text": [
      "Enter the length of the first side:  5\n",
      "Enter the length of the second side:  5\n",
      "Enter the length of the third side:  5\n"
     ]
    },
    {
     "name": "stdout",
     "output_type": "stream",
     "text": [
      "The triangle is: Equilateral\n"
     ]
    }
   ],
   "source": [
    "# Input: Get the lengths of the three sides of the triangle from the user\n",
    "side1 = float(input(\"Enter the length of the first side: \"))\n",
    "side2 = float(input(\"Enter the length of the second side: \"))\n",
    "side3 = float(input(\"Enter the length of the third side: \"))\n",
    "\n",
    "# Check the sides to determine the type of triangle\n",
    "if side1 == side2 == side3:\n",
    "    triangle_type = \"Equilateral\"\n",
    "if side1 == side2 or side1 == side3 or side2 == side3:\n",
    "    triangle_type = \"Isosceles\"\n",
    "else:\n",
    "    triangle_type = \"Scalene\"\n",
    "\n",
    "# Print the type of triangle\n",
    "print(\"The triangle is:\", triangle_type)\n"
   ]
  },
  {
   "cell_type": "markdown",
   "id": "b8b63c1a-ed6d-4a7b-bca0-5bf236d8d25e",
   "metadata": {},
   "source": [
    "13. Develop a program that checks if a year is a leap year and also if it is a century year."
   ]
  },
  {
   "cell_type": "code",
   "execution_count": 16,
   "id": "1b11fbba-a389-4d94-92c3-38add65c6554",
   "metadata": {},
   "outputs": [
    {
     "name": "stdin",
     "output_type": "stream",
     "text": [
      "Enter a year:  2023\n"
     ]
    },
    {
     "name": "stdout",
     "output_type": "stream",
     "text": [
      "2023 is not a leap year.\n",
      "2023 is not a century year.\n"
     ]
    }
   ],
   "source": [
    "# Input: Get the year from the user\n",
    "year = int(input(\"Enter a year: \"))\n",
    "\n",
    "# Check if it's a leap year\n",
    "if (year % 4 == 0 and year % 100 != 0) or (year % 400 == 0):\n",
    "    leap_year = True\n",
    "else:\n",
    "    leap_year = False\n",
    "\n",
    "# Check if it's a century year\n",
    "if year % 100 == 0:\n",
    "    century_year = True\n",
    "else:\n",
    "    century_year = False\n",
    "\n",
    "# Print the results\n",
    "if leap_year:\n",
    "    print(year, \"is a leap year.\")\n",
    "else:\n",
    "    print(year, \"is not a leap year.\")\n",
    "\n",
    "if century_year:\n",
    "    print(year, \"is a century year.\")\n",
    "else:\n",
    "    print(year, \"is not a century year.\")\n"
   ]
  },
  {
   "cell_type": "markdown",
   "id": "2ec416ce-3bb0-4d25-9bac-628398bc6f2f",
   "metadata": {},
   "source": [
    "14. Write a Python script to determine if a number is positive, negative, or zero."
   ]
  },
  {
   "cell_type": "code",
   "execution_count": 17,
   "id": "225bd07d-6628-4332-a18c-37af4daddf03",
   "metadata": {},
   "outputs": [
    {
     "name": "stdin",
     "output_type": "stream",
     "text": [
      "Enter a number:  5\n"
     ]
    },
    {
     "name": "stdout",
     "output_type": "stream",
     "text": [
      "The number is positive.\n"
     ]
    }
   ],
   "source": [
    "# Input: Get a number from the user\n",
    "number = float(input(\"Enter a number: \"))\n",
    "\n",
    "# Check if the number is positive, negative, or zero\n",
    "if number > 0:\n",
    "    print(\"The number is positive.\")\n",
    "if number < 0:\n",
    "    print(\"The number is negative.\")\n",
    "else:\n",
    "    print(\"The number is zero.\")\n"
   ]
  },
  {
   "cell_type": "markdown",
   "id": "dd079a09-aade-471a-9ae6-d6e8c5824e15",
   "metadata": {},
   "source": [
    "15. Create a program to check if a person is a teenager (between 13 and 19 years old)."
   ]
  },
  {
   "cell_type": "code",
   "execution_count": 18,
   "id": "30a890ff-efa1-4586-829d-447b0f3e4614",
   "metadata": {},
   "outputs": [
    {
     "name": "stdin",
     "output_type": "stream",
     "text": [
      "Enter your age:  19\n"
     ]
    },
    {
     "name": "stdout",
     "output_type": "stream",
     "text": [
      "You are a teenager.\n"
     ]
    }
   ],
   "source": [
    "# Input: Get the age from the user\n",
    "age = int(input(\"Enter your age: \"))\n",
    "\n",
    "# Check if the age falls within the teenage range\n",
    "if 13 <= age <= 19:\n",
    "    print(\"You are a teenager.\")\n",
    "else:\n",
    "    print(\"You are not a teenager.\")\n"
   ]
  },
  {
   "cell_type": "markdown",
   "id": "0be894ee-4677-45df-a342-0d5cbac4d08b",
   "metadata": {},
   "source": [
    "16. Develop a program that determines the type of angle based on its measure (acute, obtuse, or right)."
   ]
  },
  {
   "cell_type": "code",
   "execution_count": 19,
   "id": "162ab6f3-479f-46cd-b985-7c35ac914f5c",
   "metadata": {},
   "outputs": [
    {
     "name": "stdin",
     "output_type": "stream",
     "text": [
      "Enter the angle measure in degrees:  45\n"
     ]
    },
    {
     "name": "stdout",
     "output_type": "stream",
     "text": [
      "The angle with measure 45.0 degrees is a Acute angle.\n"
     ]
    }
   ],
   "source": [
    "# Input: Get the angle measure from the user\n",
    "angle_measure = float(input(\"Enter the angle measure in degrees: \"))\n",
    "\n",
    "# Check the type of angle\n",
    "if angle_measure < 90:\n",
    "    angle_type = \"Acute\"\n",
    "if angle_measure == 90:\n",
    "    angle_type = \"Right\"\n",
    "else:\n",
    "    angle_type = \"Obtuse\"\n",
    "\n",
    "# Print the result\n",
    "print(f\"The angle with measure {angle_measure} degrees is a {angle_type} angle.\")\n"
   ]
  },
  {
   "cell_type": "markdown",
   "id": "89759ef7-8b3f-4419-92ef-4dac8c475fe5",
   "metadata": {},
   "source": [
    "17. Write a Python program to calculate the roots of a quadratic equation."
   ]
  },
  {
   "cell_type": "code",
   "execution_count": 20,
   "id": "1932e22d-af6e-4859-814a-4ab4416ac38a",
   "metadata": {},
   "outputs": [
    {
     "name": "stdin",
     "output_type": "stream",
     "text": [
      "Enter the coefficient a:  1\n",
      "Enter the coefficient b:  5\n",
      "Enter the coefficient c:  2\n"
     ]
    },
    {
     "name": "stdout",
     "output_type": "stream",
     "text": [
      "The roots are real and distinct: -0.4384471871911697 and -4.561552812808831\n"
     ]
    }
   ],
   "source": [
    "import math\n",
    "\n",
    "# Input: Get the coefficients a, b, and c from the user\n",
    "a = float(input(\"Enter the coefficient a: \"))\n",
    "b = float(input(\"Enter the coefficient b: \"))\n",
    "c = float(input(\"Enter the coefficient c: \"))\n",
    "\n",
    "# Calculate the discriminant\n",
    "discriminant = b**2 - 4*a*c\n",
    "\n",
    "# Check the nature of roots and calculate roots accordingly\n",
    "if discriminant > 0:\n",
    "    # Two real and distinct roots\n",
    "    root1 = (-b + math.sqrt(discriminant)) / (2*a)\n",
    "    root2 = (-b - math.sqrt(discriminant)) / (2*a)\n",
    "    print(f\"The roots are real and distinct: {root1} and {root2}\")\n",
    "if discriminant == 0:\n",
    "    # One real root (repeated)\n",
    "    root = -b / (2*a)\n",
    "    print(f\"The root is real and repeated: {root}\")\n",
    "else:\n",
    "    # Complex roots\n",
    "    real_part = -b / (2*a)\n",
    "    imaginary_part = math.sqrt(abs(discriminant)) / (2*a)\n",
    "    print(f\"The roots are complex: {real_part} + {imaginary_part}i and {real_part} - {imaginary_part}i\")\n"
   ]
  },
  {
   "cell_type": "markdown",
   "id": "d4529255-5b9c-4d60-b56e-ebea55b5a934",
   "metadata": {},
   "source": [
    "18. Implement a program to determine the day of the week based on a user-provided number (1 for Monday, 2\n",
    "for Tuesday, etc.)."
   ]
  },
  {
   "cell_type": "code",
   "execution_count": 22,
   "id": "4cebfd3f-0100-4850-b668-48a060660471",
   "metadata": {},
   "outputs": [
    {
     "name": "stdin",
     "output_type": "stream",
     "text": [
      "Enter a number (1 for Monday, 2 for Tuesday, etc.):  1\n"
     ]
    },
    {
     "name": "stdout",
     "output_type": "stream",
     "text": [
      "The day corresponding to 1 is Monday.\n"
     ]
    }
   ],
   "source": [
    "# Input: Get the user-provided number for the day\n",
    "day_number = int(input(\"Enter a number (1 for Monday, 2 for Tuesday, etc.): \"))\n",
    "\n",
    "# Define a list of days of the week\n",
    "days_of_week = [\"Monday\", \"Tuesday\", \"Wednesday\", \"Thursday\", \"Friday\", \"Saturday\", \"Sunday\"]\n",
    "\n",
    "# Check if the provided number is valid\n",
    "if 1 <= day_number <= 7:\n",
    "    # Subtract 1 from the user-provided number to access the correct day from the list\n",
    "    day_name = days_of_week[day_number - 1]\n",
    "    print(f\"The day corresponding to {day_number} is {day_name}.\")\n",
    "else:\n",
    "    print(\"Invalid input. Please enter a number between 1 and 7.\")\n"
   ]
  },
  {
   "cell_type": "markdown",
   "id": "8ba5fe8d-8ffd-412a-82c8-823e9515de2d",
   "metadata": {},
   "source": [
    "19. Create a program that determines if a year is a leap year and also if it is evenly divisible by 400."
   ]
  },
  {
   "cell_type": "code",
   "execution_count": 23,
   "id": "154e7438-2905-439a-89ca-6c04791e8750",
   "metadata": {},
   "outputs": [
    {
     "name": "stdin",
     "output_type": "stream",
     "text": [
      "Enter a year:  2020\n"
     ]
    },
    {
     "name": "stdout",
     "output_type": "stream",
     "text": [
      "2020 is a leap year.\n"
     ]
    }
   ],
   "source": [
    "# Input: Get the year from the user\n",
    "year = int(input(\"Enter a year: \"))\n",
    "\n",
    "# Check if it's a leap year\n",
    "if (year % 4 == 0 and year % 100 != 0) or (year % 400 == 0):\n",
    "    print(f\"{year} is a leap year.\")\n",
    "else:\n",
    "    print(f\"{year} is not a leap year.\")\n"
   ]
  },
  {
   "cell_type": "markdown",
   "id": "7836a968-16c1-489d-899d-217f8a9148ce",
   "metadata": {},
   "source": [
    "20. Develop a program that checks if a given number is prime or not using nested if-else statements."
   ]
  },
  {
   "cell_type": "code",
   "execution_count": 24,
   "id": "a6147b88-304b-4d05-994c-7565a4d6a7d2",
   "metadata": {},
   "outputs": [
    {
     "name": "stdin",
     "output_type": "stream",
     "text": [
      "Enter a number:  17\n"
     ]
    },
    {
     "name": "stdout",
     "output_type": "stream",
     "text": [
      "17 is a prime number.\n"
     ]
    }
   ],
   "source": [
    "# Input: Get the number from the user\n",
    "num = int(input(\"Enter a number: \"))\n",
    "\n",
    "# Check if the number is less than or equal to 1\n",
    "if num <= 1:\n",
    "    print(f\"{num} is not a prime number.\")\n",
    "else:\n",
    "    is_prime = True  # Assume the number is prime initially\n",
    "    \n",
    "    # Check for factors from 2 to the square root of the number\n",
    "    for i in range(2, int(num**0.5) + 1):\n",
    "        if num % i == 0:\n",
    "            is_prime = False\n",
    "            break  # Exit the loop if a factor is found\n",
    "    \n",
    "    # Check the prime flag to determine the result\n",
    "    if is_prime:\n",
    "        print(f\"{num} is a prime number.\")\n",
    "    else:\n",
    "        print(f\"{num} is not a prime number.\")\n"
   ]
  },
  {
   "cell_type": "markdown",
   "id": "1f4fe1b2-a12f-42e7-bf30-d2e9ed6caacf",
   "metadata": {},
   "source": [
    "# Elif Statements:"
   ]
  },
  {
   "cell_type": "markdown",
   "id": "e6439fa4-681b-46f2-8870-75630ea08828",
   "metadata": {},
   "source": [
    "21. Write a Python program to assign grades based on different ranges of scores using elif statements."
   ]
  },
  {
   "cell_type": "code",
   "execution_count": 25,
   "id": "93ec7a3d-9e63-4394-8ba8-fabc75404d86",
   "metadata": {},
   "outputs": [
    {
     "name": "stdin",
     "output_type": "stream",
     "text": [
      "Enter the student's score:  99\n"
     ]
    },
    {
     "name": "stdout",
     "output_type": "stream",
     "text": [
      "The student's grade is A.\n"
     ]
    }
   ],
   "source": [
    "# Input: Get the student's score from the user\n",
    "score = float(input(\"Enter the student's score: \"))\n",
    "\n",
    "# Determine the grade based on the score range\n",
    "if score >= 90:\n",
    "    grade = 'A'\n",
    "elif score >= 80:\n",
    "    grade = 'B'\n",
    "elif score >= 70:\n",
    "    grade = 'C'\n",
    "elif score >= 60:\n",
    "    grade = 'D'\n",
    "else:\n",
    "    grade = 'F'\n",
    "\n",
    "# Output: Display the assigned grade\n",
    "print(f\"The student's grade is {grade}.\")\n"
   ]
  },
  {
   "cell_type": "markdown",
   "id": "42243e5a-c41f-41ad-9110-171d00157be5",
   "metadata": {},
   "source": [
    "22. Implement a program to determine the type of a triangle based on its angles."
   ]
  },
  {
   "cell_type": "code",
   "execution_count": 32,
   "id": "3b2fc979-27f2-42a6-8aee-f182564e3fb5",
   "metadata": {},
   "outputs": [
    {
     "name": "stdin",
     "output_type": "stream",
     "text": [
      "Enter the first angle in degrees:  90\n",
      "Enter the second angle in degrees:  45\n",
      "Enter the third angle in degrees:  45\n"
     ]
    },
    {
     "name": "stdout",
     "output_type": "stream",
     "text": [
      "The triangle is a Right Triangle.\n"
     ]
    }
   ],
   "source": [
    "# Input: Get the three angles of the triangle from the user\n",
    "angle1 = float(input(\"Enter the first angle in degrees: \"))\n",
    "angle2 = float(input(\"Enter the second angle in degrees: \"))\n",
    "angle3 = float(input(\"Enter the third angle in degrees: \"))\n",
    "\n",
    "# Check if the angles form a valid triangle (sum of angles should be 180 degrees)\n",
    "if angle1 + angle2 + angle3 == 180:\n",
    "    # Check the type of triangle based on angles\n",
    "    if angle1 < 90 and angle2 < 90 and angle3 < 90:\n",
    "        triangle_type = \"Acute Triangle\"\n",
    "    elif angle1 == 90 or angle2 == 90 or angle3 == 90:\n",
    "        triangle_type = \"Right Triangle\"\n",
    "    else:\n",
    "        triangle_type = \"Obtuse Triangle\"\n",
    "    \n",
    "    # Output: Display the type of triangle\n",
    "    print(f\"The triangle is a {triangle_type}.\")\n",
    "else:\n",
    "    print(\"The angles do not form a valid triangle.\")\n"
   ]
  },
  {
   "cell_type": "markdown",
   "id": "8ff3fba8-557a-4a18-aa60-698a5dd4b62d",
   "metadata": {},
   "source": [
    "23. Develop a program to categorize a given person's BMI into underweight, normal, overweight, or obese using\n",
    "elif statements."
   ]
  },
  {
   "cell_type": "code",
   "execution_count": 34,
   "id": "4297cbe0-8169-42ff-aa6d-01d0c532cfb3",
   "metadata": {},
   "outputs": [
    {
     "name": "stdin",
     "output_type": "stream",
     "text": [
      "Enter your weight in kilograms:  78\n",
      "Enter your height in meters:  13\n"
     ]
    },
    {
     "name": "stdout",
     "output_type": "stream",
     "text": [
      "Your BMI is 0.46, which falls into the category of Underweight.\n"
     ]
    }
   ],
   "source": [
    "# Input: Get the person's weight (in kilograms) and height (in meters) from the user\n",
    "weight_kg = float(input(\"Enter your weight in kilograms: \"))\n",
    "height_m = float(input(\"Enter your height in meters: \"))\n",
    "\n",
    "# Calculate BMI\n",
    "bmi = weight_kg / (height_m ** 2)\n",
    "\n",
    "# Categorize BMI\n",
    "if bmi < 18.5:\n",
    "    category = \"Underweight\"\n",
    "elif 18.5 <= bmi < 24.9:\n",
    "    category = \"Normal Weight\"\n",
    "elif 25 <= bmi < 29.9:\n",
    "    category = \"Overweight\"\n",
    "else:\n",
    "    category = \"Obese\"\n",
    "\n",
    "# Output: Display the BMI category\n",
    "print(f\"Your BMI is {bmi:.2f}, which falls into the category of {category}.\")\n"
   ]
  },
  {
   "cell_type": "markdown",
   "id": "d26a2022-03a6-4b78-9a34-388eddfc8965",
   "metadata": {},
   "source": [
    "24. Create a program that determines whether a given number is positive, negative, or zero using elif\n",
    "statements."
   ]
  },
  {
   "cell_type": "code",
   "execution_count": 36,
   "id": "2a255cbb-8f94-46a4-a262-f54110bc7bd7",
   "metadata": {},
   "outputs": [
    {
     "name": "stdin",
     "output_type": "stream",
     "text": [
      "Enter a number:  45\n"
     ]
    },
    {
     "name": "stdout",
     "output_type": "stream",
     "text": [
      "The number 45.0 is Positive.\n"
     ]
    }
   ],
   "source": [
    "# Input: Get a number from the user\n",
    "number = float(input(\"Enter a number: \"))\n",
    "\n",
    "# Check if the number is positive, negative, or zero\n",
    "if number > 0:\n",
    "    result = \"Positive\"\n",
    "elif number < 0:\n",
    "    result = \"Negative\"\n",
    "else:\n",
    "    result = \"Zero\"\n",
    "\n",
    "# Output: Display the result\n",
    "print(f\"The number {number} is {result}.\")\n"
   ]
  },
  {
   "cell_type": "markdown",
   "id": "61d16b64-d76c-4271-9482-2003fe75f33a",
   "metadata": {},
   "source": [
    "25. Write a Python script to determine the type of a character (uppercase, lowercase, or special) using elif\n",
    "statements."
   ]
  },
  {
   "cell_type": "code",
   "execution_count": 37,
   "id": "40e71885-0af3-4a22-9f4b-c2a5f55e74cb",
   "metadata": {},
   "outputs": [
    {
     "name": "stdin",
     "output_type": "stream",
     "text": [
      "Enter a character:  A\n"
     ]
    },
    {
     "name": "stdout",
     "output_type": "stream",
     "text": [
      "The character 'A' is a Uppercase character.\n"
     ]
    }
   ],
   "source": [
    "# Input: Get a character from the user\n",
    "char = input(\"Enter a character: \")\n",
    "\n",
    "# Check the type of character\n",
    "if char.isupper():\n",
    "    char_type = \"Uppercase\"\n",
    "elif char.islower():\n",
    "    char_type = \"Lowercase\"\n",
    "else:\n",
    "    char_type = \"Special Character\"\n",
    "\n",
    "# Output: Display the result\n",
    "print(f\"The character '{char}' is a {char_type} character.\")\n"
   ]
  },
  {
   "cell_type": "markdown",
   "id": "beb82a4a-13a2-4c22-af2d-a24a2ab87a92",
   "metadata": {},
   "source": [
    "26. Implement a program to calculate the discounted price based on different purchase amounts using elif\n",
    "statements."
   ]
  },
  {
   "cell_type": "code",
   "execution_count": 38,
   "id": "41128f6d-0024-451a-a7eb-a68131595999",
   "metadata": {},
   "outputs": [
    {
     "name": "stdin",
     "output_type": "stream",
     "text": [
      "Enter the purchase amount:  450\n"
     ]
    },
    {
     "name": "stdout",
     "output_type": "stream",
     "text": [
      "Original price: $450.00\n",
      "Discounted price: $441.00\n"
     ]
    }
   ],
   "source": [
    "# Input: Get the purchase amount from the user\n",
    "purchase_amount = float(input(\"Enter the purchase amount: \"))\n",
    "\n",
    "# Initialize variables for discount rates\n",
    "discount_rate = 0.0\n",
    "discounted_price = 0.0\n",
    "\n",
    "# Determine the discount based on the purchase amount\n",
    "if purchase_amount >= 1000:\n",
    "    discount_rate = 0.10  # 10% discount for purchases of $1000 or more\n",
    "elif purchase_amount >= 500:\n",
    "    discount_rate = 0.05  # 5% discount for purchases between $500 and $999\n",
    "elif purchase_amount >= 100:\n",
    "    discount_rate = 0.02  # 2% discount for purchases between $100 and $499\n",
    "\n",
    "# Calculate the discounted price\n",
    "discounted_price = purchase_amount - (purchase_amount * discount_rate)\n",
    "\n",
    "# Output: Display the discounted price\n",
    "print(f\"Original price: ${purchase_amount:.2f}\")\n",
    "print(f\"Discounted price: ${discounted_price:.2f}\")\n"
   ]
  },
  {
   "cell_type": "markdown",
   "id": "b40c3b17-480d-42c7-9259-cf93e971016c",
   "metadata": {},
   "source": [
    "27. Develop a program to calculate the electricity bill based on different consumption slabs using elif\n",
    "statements."
   ]
  },
  {
   "cell_type": "code",
   "execution_count": 39,
   "id": "eb20db51-2565-4b7a-8150-e5f0fe3b2e50",
   "metadata": {},
   "outputs": [
    {
     "name": "stdin",
     "output_type": "stream",
     "text": [
      "Enter the electricity consumption in kWh:  20\n"
     ]
    },
    {
     "name": "stdout",
     "output_type": "stream",
     "text": [
      "Electricity consumption: 20.0 kWh\n",
      "Rate per unit: $2.50 per kWh\n",
      "Total bill: $50.00\n"
     ]
    }
   ],
   "source": [
    "# Input: Get the electricity consumption in kilowatt-hours (kWh) from the user\n",
    "consumption = float(input(\"Enter the electricity consumption in kWh: \"))\n",
    "\n",
    "# Initialize variables for rates and the total bill\n",
    "rate_per_unit = 0.0\n",
    "total_bill = 0.0\n",
    "\n",
    "# Determine the rate based on the consumption slab\n",
    "if consumption <= 50:\n",
    "    rate_per_unit = 2.50  # Rate for the first 50 kWh\n",
    "elif consumption <= 100:\n",
    "    rate_per_unit = 3.00  # Rate for 51-100 kWh\n",
    "elif consumption <= 200:\n",
    "    rate_per_unit = 4.50  # Rate for 101-200 kWh\n",
    "else:\n",
    "    rate_per_unit = 6.00  # Rate for consumption above 200 kWh\n",
    "\n",
    "# Calculate the total bill\n",
    "total_bill = consumption * rate_per_unit\n",
    "\n",
    "# Output: Display the electricity bill\n",
    "print(f\"Electricity consumption: {consumption} kWh\")\n",
    "print(f\"Rate per unit: ${rate_per_unit:.2f} per kWh\")\n",
    "print(f\"Total bill: ${total_bill:.2f}\")\n"
   ]
  },
  {
   "cell_type": "markdown",
   "id": "ce790751-edd7-4794-aafb-13df541c2583",
   "metadata": {},
   "source": [
    "28. Create a program to determine the type of quadrilateral based on its angles and sides using elif\n",
    "statements."
   ]
  },
  {
   "cell_type": "code",
   "execution_count": 40,
   "id": "34744015-d5e5-4947-904a-53fb8c041f28",
   "metadata": {},
   "outputs": [
    {
     "name": "stdin",
     "output_type": "stream",
     "text": [
      "Enter the length of side 1:  45\n",
      "Enter the length of side 2:  45\n",
      "Enter the length of side 3:  45\n",
      "Enter the length of side 4:  45\n",
      "Enter the measure of angle 1 in degrees:  90\n",
      "Enter the measure of angle 2 in degrees:  90\n",
      "Enter the measure of angle 3 in degrees:  90\n",
      "Enter the measure of angle 4 in degrees:  90\n"
     ]
    },
    {
     "name": "stdout",
     "output_type": "stream",
     "text": [
      "The given quadrilateral is a Square.\n"
     ]
    }
   ],
   "source": [
    "# Input: Get the lengths of the four sides of the quadrilateral from the user\n",
    "side1 = float(input(\"Enter the length of side 1: \"))\n",
    "side2 = float(input(\"Enter the length of side 2: \"))\n",
    "side3 = float(input(\"Enter the length of side 3: \"))\n",
    "side4 = float(input(\"Enter the length of side 4: \"))\n",
    "\n",
    "# Input: Get the measures of the four angles of the quadrilateral from the user\n",
    "angle1 = float(input(\"Enter the measure of angle 1 in degrees: \"))\n",
    "angle2 = float(input(\"Enter the measure of angle 2 in degrees: \"))\n",
    "angle3 = float(input(\"Enter the measure of angle 3 in degrees: \"))\n",
    "angle4 = float(input(\"Enter the measure of angle 4 in degrees: \"))\n",
    "\n",
    "# Determine the type of quadrilateral based on angles and sides\n",
    "if angle1 == angle2 == angle3 == angle4 == 90:\n",
    "    if side1 == side2 == side3 == side4:\n",
    "        quadrilateral_type = \"Square\"\n",
    "    elif side1 == side2 and side3 == side4:\n",
    "        quadrilateral_type = \"Rectangle\"\n",
    "    else:\n",
    "        quadrilateral_type = \"Quadrilateral\"\n",
    "elif side1 == side2 == side3 == side4:\n",
    "    if angle1 == angle2 == angle3 == angle4:\n",
    "        quadrilateral_type = \"Rhombus\"\n",
    "    else:\n",
    "        quadrilateral_type = \"Parallelogram\"\n",
    "elif side1 == side3 and side2 == side4:\n",
    "    quadrilateral_type = \"Trapezoid\"\n",
    "else:\n",
    "    quadrilateral_type = \"Quadrilateral\"\n",
    "\n",
    "# Output: Display the type of quadrilateral\n",
    "print(f\"The given quadrilateral is a {quadrilateral_type}.\")\n"
   ]
  },
  {
   "cell_type": "markdown",
   "id": "e1d0e009-d202-461c-b15b-de4acefb7021",
   "metadata": {},
   "source": [
    "29. Write a Python script to determine the season based on a user-provided month using elif statements."
   ]
  },
  {
   "cell_type": "code",
   "execution_count": 41,
   "id": "e76988ab-284f-4cd2-8236-28878a08a79a",
   "metadata": {},
   "outputs": [
    {
     "name": "stdin",
     "output_type": "stream",
     "text": [
      "Enter a month (1-12):  8\n"
     ]
    },
    {
     "name": "stdout",
     "output_type": "stream",
     "text": [
      "The season for month 8 is Summer.\n"
     ]
    }
   ],
   "source": [
    "# Input: Get the month from the user (as an integer)\n",
    "month = int(input(\"Enter a month (1-12): \"))\n",
    "\n",
    "# Determine the season based on the month\n",
    "if 3 <= month <= 5:\n",
    "    season = \"Spring\"\n",
    "elif 6 <= month <= 8:\n",
    "    season = \"Summer\"\n",
    "elif 9 <= month <= 11:\n",
    "    season = \"Autumn/Fall\"\n",
    "elif month == 12 or 1 <= month <= 2:\n",
    "    season = \"Winter\"\n",
    "else:\n",
    "    season = \"Invalid month\"\n",
    "\n",
    "# Output: Display the season\n",
    "if season != \"Invalid month\":\n",
    "    print(f\"The season for month {month} is {season}.\")\n",
    "else:\n",
    "    print(\"Invalid input. Please enter a month between 1 and 12.\")\n"
   ]
  },
  {
   "cell_type": "markdown",
   "id": "10c8aff2-f1ff-4a00-95ac-3c81117a5864",
   "metadata": {},
   "source": [
    "30. Implement a program to determine the type of a year (leap or common) and month (30 or 31 days) using\n",
    "elif statements."
   ]
  },
  {
   "cell_type": "code",
   "execution_count": 42,
   "id": "7e06215b-3332-406a-89ea-7da19278e272",
   "metadata": {},
   "outputs": [
    {
     "name": "stdin",
     "output_type": "stream",
     "text": [
      "Enter a year:  2023\n",
      "Enter a month (1-12):  8\n"
     ]
    },
    {
     "name": "stdout",
     "output_type": "stream",
     "text": [
      "2023 is a common year.\n",
      "The month 8 has 31 days.\n"
     ]
    }
   ],
   "source": [
    "# Input: Get the year and month from the user as integers\n",
    "year = int(input(\"Enter a year: \"))\n",
    "month = int(input(\"Enter a month (1-12): \"))\n",
    "\n",
    "# Determine if it's a leap year\n",
    "if (year % 4 == 0 and year % 100 != 0) or (year % 400 == 0):\n",
    "    is_leap_year = True\n",
    "else:\n",
    "    is_leap_year = False\n",
    "\n",
    "# Determine the number of days in the month based on the month and leap year status\n",
    "if 1 <= month <= 12:\n",
    "    if month in [4, 6, 9, 11]:\n",
    "        days_in_month = 30\n",
    "    elif month == 2:\n",
    "        if is_leap_year:\n",
    "            days_in_month = 29\n",
    "        else:\n",
    "            days_in_month = 28\n",
    "    else:\n",
    "        days_in_month = 31\n",
    "else:\n",
    "    days_in_month = -1  # Invalid month\n",
    "\n",
    "# Output: Display the results\n",
    "if days_in_month != -1:\n",
    "    if is_leap_year:\n",
    "        year_type = \"leap year\"\n",
    "    else:\n",
    "        year_type = \"common year\"\n",
    "    \n",
    "    print(f\"{year} is a {year_type}.\")\n",
    "    print(f\"The month {month} has {days_in_month} days.\")\n",
    "else:\n",
    "    print(\"Invalid input. Please enter a valid year and month.\")\n"
   ]
  },
  {
   "cell_type": "markdown",
   "id": "fd295178-3544-47c4-a9d9-7e92ebf088f9",
   "metadata": {},
   "source": [
    "# Basic Level:"
   ]
  },
  {
   "cell_type": "markdown",
   "id": "81854565-d438-42da-a2b9-cf2772d8e8ad",
   "metadata": {},
   "source": [
    "1. Write a Python program that checks if a given number is positive, negative, or zero."
   ]
  },
  {
   "cell_type": "code",
   "execution_count": 43,
   "id": "c7c36e30-6fce-4398-88c1-1348a354a2db",
   "metadata": {},
   "outputs": [
    {
     "name": "stdin",
     "output_type": "stream",
     "text": [
      "Enter a number:  -8\n"
     ]
    },
    {
     "name": "stdout",
     "output_type": "stream",
     "text": [
      "The number is negative.\n"
     ]
    }
   ],
   "source": [
    "# Input: Get a number from the user as a float\n",
    "number = float(input(\"Enter a number: \"))\n",
    "\n",
    "# Check if the number is positive, negative, or zero\n",
    "if number > 0:\n",
    "    print(\"The number is positive.\")\n",
    "elif number < 0:\n",
    "    print(\"The number is negative.\")\n",
    "else:\n",
    "    print(\"The number is zero.\")\n"
   ]
  },
  {
   "cell_type": "markdown",
   "id": "587b33c5-4757-45bd-985a-76949b083c6b",
   "metadata": {},
   "source": [
    "2. Create a program to determine if a person is eligible to vote based on their age."
   ]
  },
  {
   "cell_type": "code",
   "execution_count": 44,
   "id": "5a645520-5779-4912-98ba-ca2e265b53b7",
   "metadata": {},
   "outputs": [
    {
     "name": "stdin",
     "output_type": "stream",
     "text": [
      "Enter your age:  2\n"
     ]
    },
    {
     "name": "stdout",
     "output_type": "stream",
     "text": [
      "You are not eligible to vote.\n"
     ]
    }
   ],
   "source": [
    "# Input: Get the person's age as an integer\n",
    "age = int(input(\"Enter your age: \"))\n",
    "\n",
    "# Check if the person is eligible to vote\n",
    "if age >= 18:\n",
    "    print(\"You are eligible to vote.\")\n",
    "else:\n",
    "    print(\"You are not eligible to vote.\")\n"
   ]
  },
  {
   "cell_type": "markdown",
   "id": "234fae52-5c75-4211-b4bb-59d96df9a952",
   "metadata": {},
   "source": [
    "3. Write a program to find the maximum of two given numbers using conditional statements."
   ]
  },
  {
   "cell_type": "code",
   "execution_count": 45,
   "id": "7ff1c152-73c1-48c9-a49c-7ee63496ebfb",
   "metadata": {},
   "outputs": [
    {
     "name": "stdin",
     "output_type": "stream",
     "text": [
      "Enter the first number:  10\n",
      "Enter the second number:  100\n"
     ]
    },
    {
     "name": "stdout",
     "output_type": "stream",
     "text": [
      "The maximum number is: 100.0\n"
     ]
    }
   ],
   "source": [
    "# Input: Get two numbers from the user as floats\n",
    "number1 = float(input(\"Enter the first number: \"))\n",
    "number2 = float(input(\"Enter the second number: \"))\n",
    "\n",
    "# Check which number is greater\n",
    "if number1 > number2:\n",
    "    max_number = number1\n",
    "else:\n",
    "    max_number = number2\n",
    "\n",
    "# Output: Print the maximum number\n",
    "print(\"The maximum number is:\", max_number)\n"
   ]
  },
  {
   "cell_type": "markdown",
   "id": "f106bf59-f5df-4795-9bf6-5f8f79d15357",
   "metadata": {},
   "source": [
    "4. Develop a program that calculates the grade of a student based on their exam score."
   ]
  },
  {
   "cell_type": "code",
   "execution_count": 46,
   "id": "4a06d727-f9eb-456a-bb44-6b486fe3f40e",
   "metadata": {},
   "outputs": [
    {
     "name": "stdin",
     "output_type": "stream",
     "text": [
      "Enter the exam score (out of 100):  55\n"
     ]
    },
    {
     "name": "stdout",
     "output_type": "stream",
     "text": [
      "The student's grade is: F\n"
     ]
    }
   ],
   "source": [
    "# Input: Get the exam score as a float\n",
    "exam_score = float(input(\"Enter the exam score (out of 100): \"))\n",
    "\n",
    "# Calculate the grade based on the exam score\n",
    "if exam_score >= 90:\n",
    "    grade = \"A\"\n",
    "elif exam_score >= 80:\n",
    "    grade = \"B\"\n",
    "elif exam_score >= 70:\n",
    "    grade = \"C\"\n",
    "elif exam_score >= 60:\n",
    "    grade = \"D\"\n",
    "else:\n",
    "    grade = \"F\"\n",
    "\n",
    "# Output: Print the calculated grade\n",
    "print(\"The student's grade is:\", grade)\n"
   ]
  },
  {
   "cell_type": "markdown",
   "id": "3e9ee6a8-c051-4eef-b18d-1f63349f6761",
   "metadata": {},
   "source": [
    "5. Create a program that checks if a year is a leap year or not."
   ]
  },
  {
   "cell_type": "code",
   "execution_count": 47,
   "id": "9696384d-9492-4b4d-a036-89657dd406a1",
   "metadata": {},
   "outputs": [
    {
     "name": "stdin",
     "output_type": "stream",
     "text": [
      "Enter a year:  2022\n"
     ]
    },
    {
     "name": "stdout",
     "output_type": "stream",
     "text": [
      "2022 is not a leap year.\n"
     ]
    }
   ],
   "source": [
    "# Input: Get the year as an integer from the user\n",
    "year = int(input(\"Enter a year: \"))\n",
    "\n",
    "# Check if it's a leap year\n",
    "if (year % 4 == 0 and year % 100 != 0) or (year % 400 == 0):\n",
    "    is_leap_year = True\n",
    "else:\n",
    "    is_leap_year = False\n",
    "\n",
    "# Output: Print the result\n",
    "if is_leap_year:\n",
    "    print(year, \"is a leap year.\")\n",
    "else:\n",
    "    print(year, \"is not a leap year.\")\n"
   ]
  },
  {
   "cell_type": "markdown",
   "id": "3ad70da1-cfa4-446c-91ad-973e86203afb",
   "metadata": {},
   "source": [
    "6. Write a program to classify a triangle based on its sides' lengths."
   ]
  },
  {
   "cell_type": "code",
   "execution_count": 48,
   "id": "993a0ec7-e2ba-4f33-8727-eb2cb3ffbc05",
   "metadata": {},
   "outputs": [
    {
     "name": "stdin",
     "output_type": "stream",
     "text": [
      "Enter the length of the first side:  45\n",
      "Enter the length of the second side:  45\n",
      "Enter the length of the third side:  45\n"
     ]
    },
    {
     "name": "stdout",
     "output_type": "stream",
     "text": [
      "The triangle with sides 45, 45, and 45 is a Equilateral Triangle.\n"
     ]
    }
   ],
   "source": [
    "# Input: Get the lengths of the three sides as integers from the user\n",
    "side1 = int(input(\"Enter the length of the first side: \"))\n",
    "side2 = int(input(\"Enter the length of the second side: \"))\n",
    "side3 = int(input(\"Enter the length of the third side: \"))\n",
    "\n",
    "# Check and classify the triangle\n",
    "if side1 == side2 == side3:\n",
    "    triangle_type = \"Equilateral Triangle\"\n",
    "elif side1 == side2 or side1 == side3 or side2 == side3:\n",
    "    triangle_type = \"Isosceles Triangle\"\n",
    "else:\n",
    "    triangle_type = \"Scalene Triangle\"\n",
    "\n",
    "# Output: Print the classification\n",
    "print(f\"The triangle with sides {side1}, {side2}, and {side3} is a {triangle_type}.\")\n"
   ]
  },
  {
   "cell_type": "markdown",
   "id": "222d319e-fcda-48c6-bf32-0a40846a2240",
   "metadata": {},
   "source": [
    "7. Build a program that determines the largest of three given numbers."
   ]
  },
  {
   "cell_type": "code",
   "execution_count": 49,
   "id": "c3b65346-bf1f-43c8-8ab1-bd069d983048",
   "metadata": {},
   "outputs": [
    {
     "name": "stdin",
     "output_type": "stream",
     "text": [
      "Enter the first number:  52\n",
      "Enter the second number:  55\n",
      "Enter the third number:  56\n"
     ]
    },
    {
     "name": "stdout",
     "output_type": "stream",
     "text": [
      "The largest number among 52.0, 55.0, and 56.0 is 56.0.\n"
     ]
    }
   ],
   "source": [
    "# Input: Get three numbers as input from the user\n",
    "num1 = float(input(\"Enter the first number: \"))\n",
    "num2 = float(input(\"Enter the second number: \"))\n",
    "num3 = float(input(\"Enter the third number: \"))\n",
    "\n",
    "# Compare the numbers to find the largest\n",
    "if num1 >= num2 and num1 >= num3:\n",
    "    largest = num1\n",
    "elif num2 >= num1 and num2 >= num3:\n",
    "    largest = num2\n",
    "else:\n",
    "    largest = num3\n",
    "\n",
    "# Output: Print the largest number\n",
    "print(f\"The largest number among {num1}, {num2}, and {num3} is {largest}.\")\n"
   ]
  },
  {
   "cell_type": "markdown",
   "id": "c33723d7-6a6b-462d-a4e2-9c0d142ca7eb",
   "metadata": {},
   "source": [
    "8. Develop a program that checks whether a character is a vowel or a consonant."
   ]
  },
  {
   "cell_type": "code",
   "execution_count": 50,
   "id": "17610b25-ee4e-4fdf-a78c-6d45f2c64b96",
   "metadata": {},
   "outputs": [
    {
     "name": "stdin",
     "output_type": "stream",
     "text": [
      "Enter a character:  A\n"
     ]
    },
    {
     "name": "stdout",
     "output_type": "stream",
     "text": [
      "The character 'a' is a vowel.\n"
     ]
    }
   ],
   "source": [
    "# Input: Get a character as input from the user (assuming it's a single character)\n",
    "character = input(\"Enter a character: \")\n",
    "\n",
    "# Convert the character to lowercase for case-insensitive comparison\n",
    "character = character.lower()\n",
    "\n",
    "# Check if the input is a single character\n",
    "if len(character) == 1:\n",
    "    # Check if the character is a vowel\n",
    "    if character in 'aeiou':\n",
    "        print(f\"The character '{character}' is a vowel.\")\n",
    "    else:\n",
    "        print(f\"The character '{character}' is a consonant.\")\n",
    "else:\n",
    "    print(\"Please enter a single character.\")\n"
   ]
  },
  {
   "cell_type": "markdown",
   "id": "3912a1c4-4f94-4aa1-971c-018ec69a44d7",
   "metadata": {},
   "source": [
    "9. Create a program to calculate the total cost of a shopping cart based on discounts."
   ]
  },
  {
   "cell_type": "code",
   "execution_count": 53,
   "id": "ae361526-e108-4605-977f-e3cc3574f1b9",
   "metadata": {},
   "outputs": [
    {
     "name": "stdin",
     "output_type": "stream",
     "text": [
      "Enter the number of items in your cart:  2\n",
      "Enter the name of item 1:  Apple\n",
      "Enter the quantity of Apple:  2\n",
      "Enter the name of item 2:  Butter\n",
      "Enter the quantity of Butter:  1\n"
     ]
    },
    {
     "name": "stdout",
     "output_type": "stream",
     "text": [
      "Total cost of your shopping cart: $45.00\n"
     ]
    }
   ],
   "source": [
    "# Initialize the total cost\n",
    "total_cost = 0\n",
    "\n",
    "# Define the prices and discounts for items\n",
    "item_prices = {\n",
    "    'Apple': 10.0,\n",
    "    'Milk': 15.0,\n",
    "    'Bread': 20.0,\n",
    "    'Butter': 25.0,\n",
    "}\n",
    "\n",
    "# Get the items and quantities from the user\n",
    "num_items = int(input(\"Enter the number of items in your cart: \"))\n",
    "\n",
    "for i in range(num_items):\n",
    "    item_name = input(f\"Enter the name of item {i + 1}: \")\n",
    "    quantity = int(input(f\"Enter the quantity of {item_name}: \"))\n",
    "\n",
    "    if item_name in item_prices:\n",
    "        item_price = item_prices[item_name]\n",
    "        item_cost = item_price * quantity\n",
    "\n",
    "        # Apply a discount based on the quantity purchased\n",
    "        if quantity >= 5:\n",
    "            item_cost *= 0.9  # 10% discount for 5 or more items\n",
    "\n",
    "        total_cost += item_cost\n",
    "    else:\n",
    "        print(f\"Item {item_name} not found in the price list. Skipping...\")\n",
    "\n",
    "# Display the total cost\n",
    "print(f\"Total cost of your shopping cart: ${total_cost:.2f}\")\n"
   ]
  },
  {
   "cell_type": "markdown",
   "id": "f66332b4-ad73-4e04-b5e4-69346ee7876b",
   "metadata": {},
   "source": [
    "10. Write a program that checks if a given number is even or odd."
   ]
  },
  {
   "cell_type": "code",
   "execution_count": 54,
   "id": "bd251f7f-6ca4-49b7-8932-4c203cf52751",
   "metadata": {},
   "outputs": [
    {
     "name": "stdin",
     "output_type": "stream",
     "text": [
      "Enter a number:  9\n"
     ]
    },
    {
     "name": "stdout",
     "output_type": "stream",
     "text": [
      "9 is odd.\n"
     ]
    }
   ],
   "source": [
    "# Get the input number from the user\n",
    "number = int(input(\"Enter a number: \"))\n",
    "\n",
    "# Check if the number is even or odd\n",
    "if number % 2 == 0:\n",
    "    print(f\"{number} is even.\")\n",
    "else:\n",
    "    print(f\"{number} is odd.\")\n"
   ]
  },
  {
   "cell_type": "markdown",
   "id": "f479ce7f-e94e-4430-ac6e-03015a795fbb",
   "metadata": {},
   "source": [
    "# Intermediate Level:"
   ]
  },
  {
   "cell_type": "markdown",
   "id": "7cc13980-e822-47d2-9ed0-9fc6cebc8165",
   "metadata": {},
   "source": [
    "11. Write a program that calculates the roots of a quadratic equation ."
   ]
  },
  {
   "cell_type": "code",
   "execution_count": 1,
   "id": "985f0ad1-1d0f-4913-b282-0c0228ef5c89",
   "metadata": {},
   "outputs": [
    {
     "name": "stdin",
     "output_type": "stream",
     "text": [
      "Enter the coefficient a:  5\n",
      "Enter the coefficient b:  10\n",
      "Enter the coefficient c:  2\n"
     ]
    },
    {
     "name": "stdout",
     "output_type": "stream",
     "text": [
      "The roots are real and distinct: -0.2254033307585166 and -1.7745966692414832\n"
     ]
    }
   ],
   "source": [
    "import math\n",
    "\n",
    "# Get coefficients from the user\n",
    "a = float(input(\"Enter the coefficient a: \"))\n",
    "b = float(input(\"Enter the coefficient b: \"))\n",
    "c = float(input(\"Enter the coefficient c: \"))\n",
    "\n",
    "# Calculate the discriminant\n",
    "discriminant = b**2 - 4*a*c\n",
    "\n",
    "# Check if the discriminant is positive, zero, or negative\n",
    "if discriminant > 0:\n",
    "    # Two real and distinct roots\n",
    "    root1 = (-b + math.sqrt(discriminant)) / (2*a)\n",
    "    root2 = (-b - math.sqrt(discriminant)) / (2*a)\n",
    "    print(f\"The roots are real and distinct: {root1} and {root2}\")\n",
    "elif discriminant == 0:\n",
    "    # One real root (a repeated root)\n",
    "    root = -b / (2*a)\n",
    "    print(f\"The root is real and repeated: {root}\")\n",
    "else:\n",
    "    # Complex roots\n",
    "    realPart = -b / (2*a)\n",
    "    imaginaryPart = math.sqrt(-discriminant) / (2*a)\n",
    "    print(f\"The roots are complex: {realPart} + {imaginaryPart}i and {realPart} - {imaginaryPart}i\")\n"
   ]
  },
  {
   "cell_type": "markdown",
   "id": "beabaf84-1eb8-43a6-88c7-b913ea95c261",
   "metadata": {},
   "source": [
    "12. Create a program that determines the day of the week based on the day number (1-7)."
   ]
  },
  {
   "cell_type": "code",
   "execution_count": 2,
   "id": "e5828def-6cc8-4fab-8123-1cc84deeb0ab",
   "metadata": {},
   "outputs": [
    {
     "name": "stdin",
     "output_type": "stream",
     "text": [
      "Enter a day number (1-7):  5\n"
     ]
    },
    {
     "name": "stdout",
     "output_type": "stream",
     "text": [
      "The day corresponding to 5 is Thursday.\n"
     ]
    }
   ],
   "source": [
    "# Get the day number from the user\n",
    "day_number = int(input(\"Enter a day number (1-7): \"))\n",
    "\n",
    "# Define a list of day names\n",
    "days_of_week = [\"Sunday\", \"Monday\", \"Tuesday\", \"Wednesday\", \"Thursday\", \"Friday\", \"Saturday\"]\n",
    "\n",
    "# Check if the provided day number is valid\n",
    "if 1 <= day_number <= 7:\n",
    "    # Subtract 1 from the day_number to match the index in the list\n",
    "    day_name = days_of_week[day_number - 1]\n",
    "    print(f\"The day corresponding to {day_number} is {day_name}.\")\n",
    "else:\n",
    "    print(\"Invalid day number. Please enter a number between 1 and 7.\")\n"
   ]
  },
  {
   "cell_type": "markdown",
   "id": "2f8fd9d4-007a-414f-b67d-b3e06f359831",
   "metadata": {},
   "source": [
    "13. Develop a program that calculates the factorial of a given number using recursion."
   ]
  },
  {
   "cell_type": "code",
   "execution_count": 3,
   "id": "6125892f-abac-4f17-a1a5-fcd5c9a0e54b",
   "metadata": {},
   "outputs": [
    {
     "name": "stdin",
     "output_type": "stream",
     "text": [
      "Enter a non-negative integer to calculate its factorial:  10\n"
     ]
    },
    {
     "name": "stdout",
     "output_type": "stream",
     "text": [
      "The factorial of 10 is 3628800\n"
     ]
    }
   ],
   "source": [
    "# Function to calculate the factorial of a number using recursion\n",
    "def factorial(n):\n",
    "    if n == 0:\n",
    "        return 1\n",
    "    else:\n",
    "        return n * factorial(n - 1)\n",
    "\n",
    "# Get the input from the user\n",
    "try:\n",
    "    num = int(input(\"Enter a non-negative integer to calculate its factorial: \"))\n",
    "    if num < 0:\n",
    "        print(\"Factorial is not defined for negative numbers.\")\n",
    "    else:\n",
    "        result = factorial(num)\n",
    "        print(f\"The factorial of {num} is {result}\")\n",
    "except ValueError:\n",
    "    print(\"Invalid input. Please enter a non-negative integer.\")\n"
   ]
  },
  {
   "cell_type": "markdown",
   "id": "c0c7ba54-652c-4498-945f-46e766b59f1e",
   "metadata": {},
   "source": [
    "14. Write a program to find the largest among three numbers without using the `max()` function."
   ]
  },
  {
   "cell_type": "code",
   "execution_count": 4,
   "id": "9a5f9e78-609e-4875-9a86-59c55379844b",
   "metadata": {},
   "outputs": [
    {
     "name": "stdin",
     "output_type": "stream",
     "text": [
      "Enter the first number:  100\n",
      "Enter the second number:  10\n",
      "Enter the third number:  1\n"
     ]
    },
    {
     "name": "stdout",
     "output_type": "stream",
     "text": [
      "The largest number among 100.0, 10.0, and 1.0 is 100.0\n"
     ]
    }
   ],
   "source": [
    "# Function to find the largest among three numbers\n",
    "def find_largest(num1, num2, num3):\n",
    "    if num1 >= num2 and num1 >= num3:\n",
    "        return num1\n",
    "    elif num2 >= num1 and num2 >= num3:\n",
    "        return num2\n",
    "    else:\n",
    "        return num3\n",
    "\n",
    "# Get input from the user\n",
    "try:\n",
    "    num1 = float(input(\"Enter the first number: \"))\n",
    "    num2 = float(input(\"Enter the second number: \"))\n",
    "    num3 = float(input(\"Enter the third number: \"))\n",
    "\n",
    "    largest = find_largest(num1, num2, num3)\n",
    "    print(f\"The largest number among {num1}, {num2}, and {num3} is {largest}\")\n",
    "except ValueError:\n",
    "    print(\"Invalid input. Please enter valid numeric values.\")\n"
   ]
  },
  {
   "cell_type": "markdown",
   "id": "0dd3f0b8-1345-4d15-96bc-aa77f6e65e35",
   "metadata": {},
   "source": [
    "15. Create a program that simulates a basic ATM transaction menu."
   ]
  },
  {
   "cell_type": "code",
   "execution_count": 5,
   "id": "65263507-9bca-4870-8918-aebf71a5968f",
   "metadata": {},
   "outputs": [
    {
     "name": "stdout",
     "output_type": "stream",
     "text": [
      "************ ATM Menu ************\n",
      "1. Check Balance\n",
      "2. Deposit Money\n",
      "3. Withdraw Money\n",
      "4. Quit\n",
      "**********************************\n"
     ]
    },
    {
     "name": "stdin",
     "output_type": "stream",
     "text": [
      "Please select an option (1/2/3/4):  1\n"
     ]
    },
    {
     "name": "stdout",
     "output_type": "stream",
     "text": [
      "Your account balance is $1000\n",
      "************ ATM Menu ************\n",
      "1. Check Balance\n",
      "2. Deposit Money\n",
      "3. Withdraw Money\n",
      "4. Quit\n",
      "**********************************\n"
     ]
    },
    {
     "name": "stdin",
     "output_type": "stream",
     "text": [
      "Please select an option (1/2/3/4):  2\n",
      "Enter the amount to deposit: $ 10\n"
     ]
    },
    {
     "name": "stdout",
     "output_type": "stream",
     "text": [
      "$10.0 has been deposited into your account.\n",
      "************ ATM Menu ************\n",
      "1. Check Balance\n",
      "2. Deposit Money\n",
      "3. Withdraw Money\n",
      "4. Quit\n",
      "**********************************\n"
     ]
    },
    {
     "name": "stdin",
     "output_type": "stream",
     "text": [
      "Please select an option (1/2/3/4):  3\n",
      "Enter the amount to withdraw: $ 10.0\n"
     ]
    },
    {
     "name": "stdout",
     "output_type": "stream",
     "text": [
      "$10.0 has been withdrawn from your account.\n",
      "************ ATM Menu ************\n",
      "1. Check Balance\n",
      "2. Deposit Money\n",
      "3. Withdraw Money\n",
      "4. Quit\n",
      "**********************************\n"
     ]
    },
    {
     "name": "stdin",
     "output_type": "stream",
     "text": [
      "Please select an option (1/2/3/4):  1\n"
     ]
    },
    {
     "name": "stdout",
     "output_type": "stream",
     "text": [
      "Your account balance is $1000.0\n",
      "************ ATM Menu ************\n",
      "1. Check Balance\n",
      "2. Deposit Money\n",
      "3. Withdraw Money\n",
      "4. Quit\n",
      "**********************************\n"
     ]
    },
    {
     "name": "stdin",
     "output_type": "stream",
     "text": [
      "Please select an option (1/2/3/4):  4\n"
     ]
    },
    {
     "name": "stdout",
     "output_type": "stream",
     "text": [
      "Thank you for using the ATM. Goodbye!\n"
     ]
    }
   ],
   "source": [
    "# Initialize the account balance\n",
    "balance = 1000\n",
    "\n",
    "# Function to display the ATM menu\n",
    "def display_menu():\n",
    "    print(\"************ ATM Menu ************\")\n",
    "    print(\"1. Check Balance\")\n",
    "    print(\"2. Deposit Money\")\n",
    "    print(\"3. Withdraw Money\")\n",
    "    print(\"4. Quit\")\n",
    "    print(\"**********************************\")\n",
    "\n",
    "# Function to check account balance\n",
    "def check_balance():\n",
    "    print(f\"Your account balance is ${balance}\")\n",
    "\n",
    "# Function to deposit money\n",
    "def deposit_money():\n",
    "    global balance\n",
    "    deposit_amount = float(input(\"Enter the amount to deposit: $\"))\n",
    "    if deposit_amount > 0:\n",
    "        balance += deposit_amount\n",
    "        print(f\"${deposit_amount} has been deposited into your account.\")\n",
    "    else:\n",
    "        print(\"Invalid deposit amount.\")\n",
    "\n",
    "# Function to withdraw money\n",
    "def withdraw_money():\n",
    "    global balance\n",
    "    withdraw_amount = float(input(\"Enter the amount to withdraw: $\"))\n",
    "    if withdraw_amount > 0 and withdraw_amount <= balance:\n",
    "        balance -= withdraw_amount\n",
    "        print(f\"${withdraw_amount} has been withdrawn from your account.\")\n",
    "    else:\n",
    "        print(\"Invalid withdrawal amount or insufficient balance.\")\n",
    "\n",
    "# Main program\n",
    "while True:\n",
    "    display_menu()\n",
    "    choice = input(\"Please select an option (1/2/3/4): \")\n",
    "\n",
    "    if choice == '1':\n",
    "        check_balance()\n",
    "    elif choice == '2':\n",
    "        deposit_money()\n",
    "    elif choice == '3':\n",
    "        withdraw_money()\n",
    "    elif choice == '4':\n",
    "        print(\"Thank you for using the ATM. Goodbye!\")\n",
    "        break\n",
    "    else:\n",
    "        print(\"Invalid choice. Please select a valid option.\")\n",
    "\n",
    "# End of program\n"
   ]
  },
  {
   "cell_type": "markdown",
   "id": "a02d9b48-fbc2-4514-b47c-7d1074c930b1",
   "metadata": {},
   "source": [
    "16. Build a program that checks if a given string is a palindrome or not."
   ]
  },
  {
   "cell_type": "code",
   "execution_count": 6,
   "id": "45a1bcc7-46df-4ba0-9fcb-7b0fb345cb18",
   "metadata": {},
   "outputs": [
    {
     "name": "stdin",
     "output_type": "stream",
     "text": [
      "Enter a string:  This is This\n"
     ]
    },
    {
     "name": "stdout",
     "output_type": "stream",
     "text": [
      "It's not a palindrome.\n"
     ]
    }
   ],
   "source": [
    "def is_palindrome(input_string):\n",
    "    # Remove spaces and convert to lowercase\n",
    "    input_string = input_string.replace(\" \", \"\").lower()\n",
    "    \n",
    "    # Compare the original string with its reverse\n",
    "    return input_string == input_string[::-1]\n",
    "\n",
    "# Input a string from the user\n",
    "user_input = input(\"Enter a string: \")\n",
    "\n",
    "# Check if it's a palindrome\n",
    "if is_palindrome(user_input):\n",
    "    print(\"It's a palindrome!\")\n",
    "else:\n",
    "    print(\"It's not a palindrome.\")\n"
   ]
  },
  {
   "cell_type": "markdown",
   "id": "060c2247-c15e-42bf-8c29-4f9856a6ceec",
   "metadata": {},
   "source": [
    "17. Write a program that calculates the average of a list of numbers, excluding the smallest and largest values."
   ]
  },
  {
   "cell_type": "code",
   "execution_count": 7,
   "id": "dc212b79-caff-4d6f-ac9f-013ab508c293",
   "metadata": {},
   "outputs": [
    {
     "name": "stdin",
     "output_type": "stream",
     "text": [
      "Enter a list of numbers separated by spaces:  1 2 3 4 5 6 7 8 9 10\n"
     ]
    },
    {
     "name": "stdout",
     "output_type": "stream",
     "text": [
      "The average (excluding extremes) is: 5.50\n"
     ]
    }
   ],
   "source": [
    "# Input a list of numbers from the user\n",
    "user_input = input(\"Enter a list of numbers separated by spaces: \")\n",
    "\n",
    "# Split the input string into a list of strings\n",
    "number_strings = user_input.split()\n",
    "\n",
    "# Initialize an empty list to store the numbers as floats\n",
    "numbers = []\n",
    "\n",
    "# Convert the strings to floats and add them to the list\n",
    "for num_str in number_strings:\n",
    "    try:\n",
    "        num = float(num_str)\n",
    "        numbers.append(num)\n",
    "    except ValueError:\n",
    "        print(f\"Skipping invalid input: {num_str}\")\n",
    "\n",
    "# Check if there are at least three numbers in the list\n",
    "if len(numbers) < 3:\n",
    "    print(\"List should contain at least three numbers.\")\n",
    "else:\n",
    "    # Initialize variables to store the smallest and largest values\n",
    "    min_value = numbers[0]\n",
    "    max_value = numbers[0]\n",
    "\n",
    "    # Find the smallest and largest values without using try-except\n",
    "    for num in numbers:\n",
    "        if num < min_value:\n",
    "            min_value = num\n",
    "        elif num > max_value:\n",
    "            max_value = num\n",
    "\n",
    "    # Remove the smallest and largest values from the list\n",
    "    numbers.remove(min_value)\n",
    "    numbers.remove(max_value)\n",
    "\n",
    "    # Calculate the sum of remaining values\n",
    "    total = sum(numbers)\n",
    "\n",
    "    # Calculate the average\n",
    "    average = total / len(numbers)\n",
    "\n",
    "    print(f\"The average (excluding extremes) is: {average:.2f}\")\n"
   ]
  },
  {
   "cell_type": "markdown",
   "id": "205d4cf8-c12f-4964-a87e-94582a045e99",
   "metadata": {},
   "source": [
    "18. Develop a program that converts a given temperature from Celsius to Fahrenheit."
   ]
  },
  {
   "cell_type": "code",
   "execution_count": 8,
   "id": "c126ca69-6a2b-4393-b939-11181d63052c",
   "metadata": {},
   "outputs": [
    {
     "name": "stdin",
     "output_type": "stream",
     "text": [
      "Enter temperature in Celsius:  32\n"
     ]
    },
    {
     "name": "stdout",
     "output_type": "stream",
     "text": [
      "32.00 degrees Celsius is equal to 89.60 degrees Fahrenheit.\n"
     ]
    }
   ],
   "source": [
    "# Input temperature in Celsius from the user\n",
    "celsius = float(input(\"Enter temperature in Celsius: \"))\n",
    "\n",
    "# Convert Celsius to Fahrenheit using the formula: F = (C * 9/5) + 32\n",
    "fahrenheit = (celsius * 9/5) + 32\n",
    "\n",
    "# Display the result\n",
    "print(f\"{celsius:.2f} degrees Celsius is equal to {fahrenheit:.2f} degrees Fahrenheit.\")\n"
   ]
  },
  {
   "cell_type": "markdown",
   "id": "6f724b03-6a76-45c2-a81d-850c96217d78",
   "metadata": {},
   "source": [
    "19. Create a program that simulates a basic calculator for addition, subtraction, multiplication, and division."
   ]
  },
  {
   "cell_type": "code",
   "execution_count": 1,
   "id": "8e5887e7-ab45-4a7b-8da6-ccc734b640fc",
   "metadata": {},
   "outputs": [
    {
     "name": "stdout",
     "output_type": "stream",
     "text": [
      "Options:\n",
      "Enter 'add' for addition\n",
      "Enter 'subtract' for subtraction\n",
      "Enter 'multiply' for multiplication\n",
      "Enter 'divide' for division\n",
      "Enter 'quit' to end the program\n"
     ]
    },
    {
     "name": "stdin",
     "output_type": "stream",
     "text": [
      ":  add\n",
      "Enter first number:  10\n",
      "Enter second number:  10\n"
     ]
    },
    {
     "name": "stdout",
     "output_type": "stream",
     "text": [
      "Result:  20.0\n",
      "Options:\n",
      "Enter 'add' for addition\n",
      "Enter 'subtract' for subtraction\n",
      "Enter 'multiply' for multiplication\n",
      "Enter 'divide' for division\n",
      "Enter 'quit' to end the program\n"
     ]
    },
    {
     "name": "stdin",
     "output_type": "stream",
     "text": [
      ":  subtract\n",
      "Enter first number:  87\n",
      "Enter second number:  9\n"
     ]
    },
    {
     "name": "stdout",
     "output_type": "stream",
     "text": [
      "Result:  78.0\n",
      "Options:\n",
      "Enter 'add' for addition\n",
      "Enter 'subtract' for subtraction\n",
      "Enter 'multiply' for multiplication\n",
      "Enter 'divide' for division\n",
      "Enter 'quit' to end the program\n"
     ]
    },
    {
     "name": "stdin",
     "output_type": "stream",
     "text": [
      ":  multiply\n",
      "Enter first number:  10\n",
      "Enter second number:  1\n"
     ]
    },
    {
     "name": "stdout",
     "output_type": "stream",
     "text": [
      "Result:  10.0\n",
      "Options:\n",
      "Enter 'add' for addition\n",
      "Enter 'subtract' for subtraction\n",
      "Enter 'multiply' for multiplication\n",
      "Enter 'divide' for division\n",
      "Enter 'quit' to end the program\n"
     ]
    },
    {
     "name": "stdin",
     "output_type": "stream",
     "text": [
      ":  divide\n",
      "Enter first number:  10\n",
      "Enter second number:  2\n"
     ]
    },
    {
     "name": "stdout",
     "output_type": "stream",
     "text": [
      "Result:  5.0\n",
      "Options:\n",
      "Enter 'add' for addition\n",
      "Enter 'subtract' for subtraction\n",
      "Enter 'multiply' for multiplication\n",
      "Enter 'divide' for division\n",
      "Enter 'quit' to end the program\n"
     ]
    },
    {
     "name": "stdin",
     "output_type": "stream",
     "text": [
      ":  quit\n"
     ]
    }
   ],
   "source": [
    "# Function to perform addition\n",
    "def add(x, y):\n",
    "    return x + y\n",
    "\n",
    "# Function to perform subtraction\n",
    "def subtract(x, y):\n",
    "    return x - y\n",
    "\n",
    "# Function to perform multiplication\n",
    "def multiply(x, y):\n",
    "    return x * y\n",
    "\n",
    "# Function to perform division\n",
    "def divide(x, y):\n",
    "    if y == 0:\n",
    "        return \"Cannot divide by zero\"\n",
    "    return x / y\n",
    "\n",
    "# Main program loop\n",
    "while True:\n",
    "    print(\"Options:\")\n",
    "    print(\"Enter 'add' for addition\")\n",
    "    print(\"Enter 'subtract' for subtraction\")\n",
    "    print(\"Enter 'multiply' for multiplication\")\n",
    "    print(\"Enter 'divide' for division\")\n",
    "    print(\"Enter 'quit' to end the program\")\n",
    "\n",
    "    user_choice = input(\": \")\n",
    "\n",
    "    if user_choice == \"quit\":\n",
    "        break\n",
    "\n",
    "    if user_choice in (\"add\", \"subtract\", \"multiply\", \"divide\"):\n",
    "        num1 = float(input(\"Enter first number: \"))\n",
    "        num2 = float(input(\"Enter second number: \"))\n",
    "\n",
    "        if user_choice == \"add\":\n",
    "            print(\"Result: \", add(num1, num2))\n",
    "\n",
    "        elif user_choice == \"subtract\":\n",
    "            print(\"Result: \", subtract(num1, num2))\n",
    "\n",
    "        elif user_choice == \"multiply\":\n",
    "            print(\"Result: \", multiply(num1, num2))\n",
    "\n",
    "        elif user_choice == \"divide\":\n",
    "            print(\"Result: \", divide(num1, num2))\n",
    "\n",
    "    else:\n",
    "        print(\"Invalid input\")\n"
   ]
  },
  {
   "cell_type": "markdown",
   "id": "8ed37413-0a8d-4e27-9d64-07ad319ed580",
   "metadata": {},
   "source": [
    "20. Write a program that determines the roots of a cubic equation using the Cardano formula."
   ]
  },
  {
   "cell_type": "code",
   "execution_count": 2,
   "id": "45f11594-c003-43bc-9611-096db12704d8",
   "metadata": {},
   "outputs": [
    {
     "name": "stdin",
     "output_type": "stream",
     "text": [
      "Enter the coefficient of x^3:  2\n",
      "Enter the coefficient of x^2:  5\n",
      "Enter the coefficient of x:  1\n",
      "Enter the constant term:  1\n"
     ]
    },
    {
     "name": "stdout",
     "output_type": "stream",
     "text": [
      "One real root: -0.833\n",
      "Complex root 1: -0.510 + -1.035i\n",
      "Complex root 2: -0.510 - -1.035i\n"
     ]
    }
   ],
   "source": [
    "import math\n",
    "\n",
    "# Function to calculate the real cubic root\n",
    "def cubic_root(x):\n",
    "    if x >= 0:\n",
    "        return math.pow(x, 1/3)\n",
    "    else:\n",
    "        return -math.pow(-x, 1/3)\n",
    "\n",
    "# Function to calculate the roots of a cubic equation\n",
    "def calculate_cubic_roots(a, b, c, d):\n",
    "    if a == 0:\n",
    "        print(\"Not a cubic equation (a cannot be zero).\")\n",
    "        return\n",
    "\n",
    "    # Calculate discriminant and its components\n",
    "    p = (3 * a * c - b ** 2) / (3 * a ** 2)\n",
    "    q = (2 * b ** 3 - 9 * a * b * c + 27 * a ** 2 * d) / (27 * a ** 3)\n",
    "    discriminant = q ** 2 / 4 + p ** 3 / 27\n",
    "\n",
    "    if discriminant > 0:\n",
    "        # One real root and two complex roots\n",
    "        root1 = cubic_root(-q / 2 + math.sqrt(discriminant))\n",
    "        root2 = cubic_root(-q / 2 - math.sqrt(discriminant))\n",
    "        real_root = -b / (3 * a)\n",
    "\n",
    "        print(f\"One real root: {real_root:.3f}\")\n",
    "        print(f\"Complex root 1: {root1:.3f} + {root2:.3f}i\")\n",
    "        print(f\"Complex root 2: {root1:.3f} - {root2:.3f}i\")\n",
    "\n",
    "    elif discriminant == 0:\n",
    "        # Three real roots, at least two are equal\n",
    "        root1 = cubic_root(-q / 2)\n",
    "        root2 = cubic_root(-q / 2)\n",
    "        root3 = cubic_root(-q / 2)\n",
    "\n",
    "        print(f\"Three real roots: {root1:.3f}, {root2:.3f}, {root3:.3f}\")\n",
    "\n",
    "    else:\n",
    "        # Three real roots\n",
    "        theta = math.acos(-q / 2 * math.sqrt(-27 / (p ** 3)))\n",
    "        root1 = 2 * math.sqrt(-p / 3) * math.cos(theta / 3) - b / (3 * a)\n",
    "        root2 = 2 * math.sqrt(-p / 3) * math.cos((theta + 2 * math.pi) / 3) - b / (3 * a)\n",
    "        root3 = 2 * math.sqrt(-p / 3) * math.cos((theta + 4 * math.pi) / 3) - b / (3 * a)\n",
    "\n",
    "        print(f\"Three real roots: {root1:.3f}, {root2:.3f}, {root3:.3f}\")\n",
    "\n",
    "# Input coefficients of the cubic equation\n",
    "a = float(input(\"Enter the coefficient of x^3: \"))\n",
    "b = float(input(\"Enter the coefficient of x^2: \"))\n",
    "c = float(input(\"Enter the coefficient of x: \"))\n",
    "d = float(input(\"Enter the constant term: \"))\n",
    "\n",
    "# Calculate and display the roots\n",
    "calculate_cubic_roots(a, b, c, d)\n"
   ]
  },
  {
   "cell_type": "markdown",
   "id": "7bcdb851-8a0c-4c94-a13a-147575fb0adb",
   "metadata": {},
   "source": [
    "# Advanced Level:"
   ]
  },
  {
   "cell_type": "markdown",
   "id": "cbb42be9-0486-44eb-bb22-31ca88c40880",
   "metadata": {},
   "source": [
    "21. Create a program that calculates the income tax based on the user's income and tax brackets."
   ]
  },
  {
   "cell_type": "code",
   "execution_count": 3,
   "id": "035ff23b-e2c3-45e0-93dc-dcd8bf70fecd",
   "metadata": {},
   "outputs": [
    {
     "name": "stdin",
     "output_type": "stream",
     "text": [
      "Enter your annual income:  2500000\n"
     ]
    },
    {
     "name": "stdout",
     "output_type": "stream",
     "text": [
      "Your income tax is: $1095667.00\n"
     ]
    }
   ],
   "source": [
    "# Function to calculate income tax\n",
    "def calculate_income_tax(income):\n",
    "    if income <= 0:\n",
    "        tax = 0\n",
    "    elif income <= 18200:\n",
    "        tax = 0\n",
    "    elif income <= 45000:\n",
    "        tax = (income - 18200) * 0.19\n",
    "    elif income <= 120000:\n",
    "        tax = 5092 + (income - 45000) * 0.325\n",
    "    elif income <= 180000:\n",
    "        tax = 29467 + (income - 120000) * 0.37\n",
    "    else:\n",
    "        tax = 51667 + (income - 180000) * 0.45\n",
    "\n",
    "    return tax\n",
    "\n",
    "# Input income\n",
    "income = float(input(\"Enter your annual income: \"))\n",
    "\n",
    "# Calculate income tax\n",
    "income_tax = calculate_income_tax(income)\n",
    "\n",
    "# Display the result\n",
    "print(f\"Your income tax is: ${income_tax:.2f}\")\n"
   ]
  },
  {
   "cell_type": "markdown",
   "id": "30a2f4fd-428a-4726-ab6e-a19f12f70176",
   "metadata": {},
   "source": [
    "22. Write a program that simulates a rock-paper-scissors game against the computer."
   ]
  },
  {
   "cell_type": "code",
   "execution_count": 4,
   "id": "c2a59be0-1f63-41b9-a66b-9b75c689e641",
   "metadata": {},
   "outputs": [
    {
     "name": "stdin",
     "output_type": "stream",
     "text": [
      "Choose Rock, Paper, or Scissors:  Rock\n"
     ]
    },
    {
     "name": "stdout",
     "output_type": "stream",
     "text": [
      "You chose Rock\n",
      "Computer chose Paper\n",
      "Computer wins!\n"
     ]
    },
    {
     "name": "stdin",
     "output_type": "stream",
     "text": [
      "Do you want to play again? (yes/no):  Yes\n",
      "Choose Rock, Paper, or Scissors:  Paper\n"
     ]
    },
    {
     "name": "stdout",
     "output_type": "stream",
     "text": [
      "You chose Paper\n",
      "Computer chose Paper\n",
      "It's a tie!\n"
     ]
    },
    {
     "name": "stdin",
     "output_type": "stream",
     "text": [
      "Do you want to play again? (yes/no):  Yes\n",
      "Choose Rock, Paper, or Scissors:  Scissors\n"
     ]
    },
    {
     "name": "stdout",
     "output_type": "stream",
     "text": [
      "You chose Scissors\n",
      "Computer chose Rock\n",
      "Computer wins!\n"
     ]
    },
    {
     "name": "stdin",
     "output_type": "stream",
     "text": [
      "Do you want to play again? (yes/no):  Yes\n",
      "Choose Rock, Paper, or Scissors:  Paper\n"
     ]
    },
    {
     "name": "stdout",
     "output_type": "stream",
     "text": [
      "You chose Paper\n",
      "Computer chose Scissors\n",
      "Computer wins!\n"
     ]
    },
    {
     "name": "stdin",
     "output_type": "stream",
     "text": [
      "Do you want to play again? (yes/no):  no\n"
     ]
    },
    {
     "name": "stdout",
     "output_type": "stream",
     "text": [
      "Thanks for playing!\n"
     ]
    }
   ],
   "source": [
    "import random\n",
    "\n",
    "# Function to get user's choice\n",
    "def get_user_choice():\n",
    "    while True:\n",
    "        user_choice = input(\"Choose Rock, Paper, or Scissors: \").strip().capitalize()\n",
    "        if user_choice in [\"Rock\", \"Paper\", \"Scissors\"]:\n",
    "            return user_choice\n",
    "        else:\n",
    "            print(\"Invalid choice. Please choose Rock, Paper, or Scissors.\")\n",
    "\n",
    "# Function to get computer's choice\n",
    "def get_computer_choice():\n",
    "    return random.choice([\"Rock\", \"Paper\", \"Scissors\"])\n",
    "\n",
    "# Function to determine the winner\n",
    "def determine_winner(user_choice, computer_choice):\n",
    "    if user_choice == computer_choice:\n",
    "        return \"It's a tie!\"\n",
    "    elif (user_choice == \"Rock\" and computer_choice == \"Scissors\") or \\\n",
    "         (user_choice == \"Scissors\" and computer_choice == \"Paper\") or \\\n",
    "         (user_choice == \"Paper\" and computer_choice == \"Rock\"):\n",
    "        return \"You win!\"\n",
    "    else:\n",
    "        return \"Computer wins!\"\n",
    "\n",
    "# Main game loop\n",
    "while True:\n",
    "    user_choice = get_user_choice()\n",
    "    computer_choice = get_computer_choice()\n",
    "\n",
    "    print(f\"You chose {user_choice}\")\n",
    "    print(f\"Computer chose {computer_choice}\")\n",
    "\n",
    "    result = determine_winner(user_choice, computer_choice)\n",
    "    print(result)\n",
    "\n",
    "    play_again = input(\"Do you want to play again? (yes/no): \").strip().lower()\n",
    "    if play_again != \"yes\":\n",
    "        break\n",
    "\n",
    "print(\"Thanks for playing!\")\n"
   ]
  },
  {
   "cell_type": "markdown",
   "id": "ce2d3b31-cf5a-492d-9544-470bc37a132c",
   "metadata": {},
   "source": [
    "23. Develop a program that generates a random password based on user preferences (length, complexity)."
   ]
  },
  {
   "cell_type": "code",
   "execution_count": 6,
   "id": "e9b50af5-ee70-42eb-a958-c9d4328b0010",
   "metadata": {},
   "outputs": [
    {
     "name": "stdin",
     "output_type": "stream",
     "text": [
      "Enter the desired password length:  16\n",
      "Enter the desired complexity level (low, medium, high):  high\n"
     ]
    },
    {
     "name": "stdout",
     "output_type": "stream",
     "text": [
      "Generated Password: Gj)K==Q$oiR{jHig\n"
     ]
    }
   ],
   "source": [
    "import random\n",
    "import string\n",
    "\n",
    "# Function to generate a random password\n",
    "def generate_password(length, complexity):\n",
    "    if complexity == \"low\":\n",
    "        characters = string.ascii_letters + string.digits\n",
    "    elif complexity == \"medium\":\n",
    "        characters = string.ascii_letters + string.digits + string.punctuation\n",
    "    elif complexity == \"high\":\n",
    "        characters = string.ascii_letters + string.digits + string.punctuation + string.whitespace\n",
    "    else:\n",
    "        print(\"Invalid complexity level. Please choose low, medium, or high.\")\n",
    "        return None\n",
    "\n",
    "    password = ''.join(random.choice(characters) for _ in range(length))\n",
    "    return password\n",
    "\n",
    "# Get user preferences\n",
    "length = int(input(\"Enter the desired password length: \"))\n",
    "complexity = input(\"Enter the desired complexity level (low, medium, high): \").lower()\n",
    "\n",
    "# Generate and print the password\n",
    "password = generate_password(length, complexity)\n",
    "if password:\n",
    "    print(\"Generated Password:\", password)\n"
   ]
  },
  {
   "cell_type": "markdown",
   "id": "b2ffb6d0-6a1b-4cd9-a0c4-c2b2ff204201",
   "metadata": {},
   "source": [
    "24. Create a program that implements a simple text-based adventure game with branching scenarios."
   ]
  },
  {
   "cell_type": "code",
   "execution_count": 8,
   "id": "f1219d00-8e6e-434d-8e44-1e656bd38745",
   "metadata": {},
   "outputs": [
    {
     "name": "stdout",
     "output_type": "stream",
     "text": [
      "Welcome to the Text Adventure Game!\n",
      "You find yourself in a dark forest.\n",
      "There are two paths ahead. Which one will you choose?\n",
      "1. Take the left path.\n",
      "2. Take the right path.\n"
     ]
    },
    {
     "name": "stdin",
     "output_type": "stream",
     "text": [
      "Enter your choice (1 or 2):  1\n"
     ]
    },
    {
     "name": "stdout",
     "output_type": "stream",
     "text": [
      "\n",
      "You chose the left path.\n",
      "You encounter a friendly squirrel.\n",
      "The squirrel gives you a clue about hidden treasure.\n",
      "What will you do?\n",
      "1. Follow the squirrel's clue.\n",
      "2. Ignore the clue and continue on the path.\n"
     ]
    },
    {
     "name": "stdin",
     "output_type": "stream",
     "text": [
      "Do you want to play again? (yes/no):  yes\n"
     ]
    },
    {
     "name": "stdout",
     "output_type": "stream",
     "text": [
      "Welcome to the Text Adventure Game!\n",
      "You find yourself in a dark forest.\n",
      "There are two paths ahead. Which one will you choose?\n",
      "1. Take the left path.\n",
      "2. Take the right path.\n"
     ]
    },
    {
     "name": "stdin",
     "output_type": "stream",
     "text": [
      "Enter your choice (1 or 2):  1\n"
     ]
    },
    {
     "name": "stdout",
     "output_type": "stream",
     "text": [
      "\n",
      "You chose the left path.\n",
      "You encounter a friendly squirrel.\n",
      "The squirrel gives you a clue about hidden treasure.\n",
      "What will you do?\n",
      "1. Follow the squirrel's clue.\n",
      "2. Ignore the clue and continue on the path.\n"
     ]
    },
    {
     "name": "stdin",
     "output_type": "stream",
     "text": [
      "Do you want to play again? (yes/no):  no\n"
     ]
    },
    {
     "name": "stdout",
     "output_type": "stream",
     "text": [
      "Thanks for playing!\n"
     ]
    }
   ],
   "source": [
    "import time\n",
    "\n",
    "def introduction():\n",
    "    print(\"Welcome to the Text Adventure Game!\")\n",
    "    print(\"You find yourself in a dark forest.\")\n",
    "    print(\"There are two paths ahead. Which one will you choose?\")\n",
    "    time.sleep(1)\n",
    "    print(\"1. Take the left path.\")\n",
    "    print(\"2. Take the right path.\")\n",
    "\n",
    "def left_path():\n",
    "    print(\"\\nYou chose the left path.\")\n",
    "    time.sleep(1)\n",
    "    print(\"You encounter a friendly squirrel.\")\n",
    "    print(\"The squirrel gives you a clue about hidden treasure.\")\n",
    "    time.sleep(1)\n",
    "    print(\"What will you do?\")\n",
    "    time.sleep(1)\n",
    "    print(\"1. Follow the squirrel's clue.\")\n",
    "    print(\"2. Ignore the clue and continue on the path.\")\n",
    "\n",
    "def right_path():\n",
    "    print(\"\\nYou chose the right path.\")\n",
    "    time.sleep(1)\n",
    "    print(\"You come across a mysterious door in the forest.\")\n",
    "    print(\"It's locked, but there's a riddle written on it.\")\n",
    "    time.sleep(1)\n",
    "    print(\"Solve the riddle to open the door and proceed.\")\n",
    "    time.sleep(1)\n",
    "    print(\"Riddle: What has keys but can't open locks?\")\n",
    "    answer = input(\"Your answer: \").lower()\n",
    "    \n",
    "    if answer == \"piano\":\n",
    "        print(\"\\nCongratulations! You solved the riddle.\")\n",
    "        time.sleep(1)\n",
    "        print(\"The door opens, revealing a hidden treasure.\")\n",
    "    else:\n",
    "        print(\"\\nSorry, that's not the correct answer.\")\n",
    "        time.sleep(1)\n",
    "        print(\"The door remains locked.\")\n",
    "\n",
    "def play_game():\n",
    "    introduction()\n",
    "    \n",
    "    while True:\n",
    "        choice = input(\"Enter your choice (1 or 2): \")\n",
    "        \n",
    "        if choice == \"1\":\n",
    "            left_path()\n",
    "            break\n",
    "        elif choice == \"2\":\n",
    "            right_path()\n",
    "            break\n",
    "        else:\n",
    "            print(\"Invalid choice. Please enter 1 or 2.\")\n",
    "\n",
    "    play_again = input(\"Do you want to play again? (yes/no): \").lower()\n",
    "    if play_again == \"yes\":\n",
    "        play_game()\n",
    "    else:\n",
    "        print(\"Thanks for playing!\")"
   ]
  },
  {
   "cell_type": "markdown",
   "id": "c1fe7d51-c5cc-4254-937c-f79dd659f641",
   "metadata": {},
   "source": [
    "25. Build a program that solves a linear equation for x, considering different cases."
   ]
  },
  {
   "cell_type": "code",
   "execution_count": 9,
   "id": "0d80b7a6-5ce1-447c-aaaa-b9e0e465d5ac",
   "metadata": {},
   "outputs": [
    {
     "name": "stdin",
     "output_type": "stream",
     "text": [
      "Enter the coefficient 'a':  10\n",
      "Enter the coefficient 'b':  2\n"
     ]
    },
    {
     "name": "stdout",
     "output_type": "stream",
     "text": [
      "The solution for x is: x = -0.2\n"
     ]
    }
   ],
   "source": [
    "# Input coefficients a and b\n",
    "a = float(input(\"Enter the coefficient 'a': \"))\n",
    "b = float(input(\"Enter the coefficient 'b': \"))\n",
    "\n",
    "# Check different cases\n",
    "if a == 0:\n",
    "    if b == 0:\n",
    "        print(\"Infinite solutions (any value of x)\")\n",
    "    else:\n",
    "        print(\"No solution (contradiction)\")\n",
    "else:\n",
    "    x = -b / a\n",
    "    print(f\"The solution for x is: x = {x}\")\n"
   ]
  },
  {
   "cell_type": "markdown",
   "id": "5b278ef9-281d-4dae-8ba1-8e78728fe57b",
   "metadata": {},
   "source": [
    "26. Write a program that simulates a basic quiz game with multiple-choice questions and scoring."
   ]
  },
  {
   "cell_type": "code",
   "execution_count": 10,
   "id": "91740044-fa99-4205-9fa2-1a9caf2bdd44",
   "metadata": {},
   "outputs": [
    {
     "name": "stdout",
     "output_type": "stream",
     "text": [
      "Welcome to the Quiz Game!\n",
      "Question 1: What is the capital of France?\n",
      "A. London\n",
      "B. Paris\n",
      "C. Berlin\n",
      "D. Madrid\n"
     ]
    },
    {
     "name": "stdin",
     "output_type": "stream",
     "text": [
      "Enter your answer (A/B/C/D):  B\n"
     ]
    },
    {
     "name": "stdout",
     "output_type": "stream",
     "text": [
      "Correct!\n",
      "\n",
      "Question 2: Which planet is known as the 'Red Planet'?\n",
      "A. Venus\n",
      "B. Mars\n",
      "C. Jupiter\n",
      "D. Saturn\n"
     ]
    },
    {
     "name": "stdin",
     "output_type": "stream",
     "text": [
      "Enter your answer (A/B/C/D):  A\n"
     ]
    },
    {
     "name": "stdout",
     "output_type": "stream",
     "text": [
      "Wrong! The correct answer is B.\n",
      "\n",
      "Question 3: What is the largest mammal in the world?\n",
      "A. Elephant\n",
      "B. Giraffe\n",
      "C. Blue Whale\n",
      "D. Gorilla\n"
     ]
    },
    {
     "name": "stdin",
     "output_type": "stream",
     "text": [
      "Enter your answer (A/B/C/D):  c\n"
     ]
    },
    {
     "name": "stdout",
     "output_type": "stream",
     "text": [
      "Correct!\n",
      "\n",
      "You scored 2/3.\n"
     ]
    }
   ],
   "source": [
    "# Quiz questions and answers\n",
    "questions = [\n",
    "    {\n",
    "        \"question\": \"What is the capital of France?\",\n",
    "        \"choices\": [\"A. London\", \"B. Paris\", \"C. Berlin\", \"D. Madrid\"],\n",
    "        \"correct_answer\": \"B\"\n",
    "    },\n",
    "    {\n",
    "        \"question\": \"Which planet is known as the 'Red Planet'?\",\n",
    "        \"choices\": [\"A. Venus\", \"B. Mars\", \"C. Jupiter\", \"D. Saturn\"],\n",
    "        \"correct_answer\": \"B\"\n",
    "    },\n",
    "    {\n",
    "        \"question\": \"What is the largest mammal in the world?\",\n",
    "        \"choices\": [\"A. Elephant\", \"B. Giraffe\", \"C. Blue Whale\", \"D. Gorilla\"],\n",
    "        \"correct_answer\": \"C\"\n",
    "    }\n",
    "]\n",
    "\n",
    "# Initialize the score\n",
    "score = 0\n",
    "\n",
    "# Quiz function\n",
    "def quiz():\n",
    "    global score\n",
    "    for i, question in enumerate(questions, start=1):\n",
    "        print(f\"Question {i}: {question['question']}\")\n",
    "        for choice in question['choices']:\n",
    "            print(choice)\n",
    "        answer = input(\"Enter your answer (A/B/C/D): \").strip().upper()\n",
    "        if answer == question['correct_answer']:\n",
    "            print(\"Correct!\\n\")\n",
    "            score += 1\n",
    "        else:\n",
    "            print(f\"Wrong! The correct answer is {question['correct_answer']}.\\n\")\n",
    "    print(f\"You scored {score}/{len(questions)}.\")\n",
    "\n",
    "# Run the quiz\n",
    "print(\"Welcome to the Quiz Game!\")\n",
    "quiz()\n"
   ]
  },
  {
   "cell_type": "markdown",
   "id": "d398da46-65c1-4f09-ae1c-33d10540e270",
   "metadata": {},
   "source": [
    "27. Develop a program that determines whether a given year is a prime number or not."
   ]
  },
  {
   "cell_type": "code",
   "execution_count": 11,
   "id": "c29ede42-ef9c-48cc-bb64-4d81a06b6fd2",
   "metadata": {},
   "outputs": [
    {
     "name": "stdin",
     "output_type": "stream",
     "text": [
      "Enter a year:  2023\n"
     ]
    },
    {
     "name": "stdout",
     "output_type": "stream",
     "text": [
      "2023 is not a prime year.\n"
     ]
    }
   ],
   "source": [
    "# Function to check if a number is prime\n",
    "def is_prime(year):\n",
    "    if year <= 1:\n",
    "        return False\n",
    "    if year <= 3:\n",
    "        return True\n",
    "    if year % 2 == 0 or year % 3 == 0:\n",
    "        return False\n",
    "    i = 5\n",
    "    while i * i <= year:\n",
    "        if year % i == 0 or year % (i + 2) == 0:\n",
    "            return False\n",
    "        i += 6\n",
    "    return True\n",
    "\n",
    "# Input year from the user\n",
    "year = int(input(\"Enter a year: \"))\n",
    "\n",
    "# Check if the year is prime and display the result\n",
    "if is_prime(year):\n",
    "    print(f\"{year} is a prime year.\")\n",
    "else:\n",
    "    print(f\"{year} is not a prime year.\")\n"
   ]
  },
  {
   "cell_type": "markdown",
   "id": "8eb15071-587f-4881-ad4f-81d8ae459f8f",
   "metadata": {},
   "source": [
    "28. Create a program that sorts three numbers in ascending order using conditional statements."
   ]
  },
  {
   "cell_type": "code",
   "execution_count": 12,
   "id": "86438974-907b-488f-a966-93afb075adff",
   "metadata": {},
   "outputs": [
    {
     "name": "stdin",
     "output_type": "stream",
     "text": [
      "Enter the first number:  10\n",
      "Enter the second number:  5\n",
      "Enter the third number:  8\n"
     ]
    },
    {
     "name": "stdout",
     "output_type": "stream",
     "text": [
      "The numbers in ascending order are: 5.0, 8.0, 10.0\n"
     ]
    }
   ],
   "source": [
    "# Input three numbers from the user\n",
    "num1 = float(input(\"Enter the first number: \"))\n",
    "num2 = float(input(\"Enter the second number: \"))\n",
    "num3 = float(input(\"Enter the third number: \"))\n",
    "\n",
    "# Using conditional statements to sort the numbers\n",
    "if num1 <= num2 and num1 <= num3:\n",
    "    smallest = num1\n",
    "    if num2 <= num3:\n",
    "        middle = num2\n",
    "        largest = num3\n",
    "    else:\n",
    "        middle = num3\n",
    "        largest = num2\n",
    "elif num2 <= num1 and num2 <= num3:\n",
    "    smallest = num2\n",
    "    if num1 <= num3:\n",
    "        middle = num1\n",
    "        largest = num3\n",
    "    else:\n",
    "        middle = num3\n",
    "        largest = num1\n",
    "else:\n",
    "    smallest = num3\n",
    "    if num1 <= num2:\n",
    "        middle = num1\n",
    "        largest = num2\n",
    "    else:\n",
    "        middle = num2\n",
    "        largest = num1\n",
    "\n",
    "# Display the sorted numbers in ascending order\n",
    "print(f\"The numbers in ascending order are: {smallest}, {middle}, {largest}\")\n"
   ]
  },
  {
   "cell_type": "markdown",
   "id": "2f8f3675-56a8-42eb-9c11-2e5b8418f750",
   "metadata": {},
   "source": [
    "29. Build a program that determines the roots of a quartic equation using numerical methods."
   ]
  },
  {
   "cell_type": "code",
   "execution_count": 13,
   "id": "2b933e85-6c14-4289-98be-8cc7c4151e76",
   "metadata": {},
   "outputs": [
    {
     "name": "stdout",
     "output_type": "stream",
     "text": [
      "Root 1: -3.82342058671789E-57\n",
      "Root 2: 0\n",
      "Root 3: 1.00000000000000\n",
      "Root 4: 3.00000000000000\n"
     ]
    }
   ],
   "source": [
    "import sympy as sp\n",
    "\n",
    "# Define the variable and the quartic equation\n",
    "x = sp.symbols('x')\n",
    "equation = x**4 - 6*x**3 + 11*x**2 - 6*x\n",
    "\n",
    "# Find the roots using the Newton-Raphson method\n",
    "initial_guesses = [-2, 0, 1, 3]  # Initial guesses for roots\n",
    "roots = []\n",
    "\n",
    "for guess in initial_guesses:\n",
    "    root = sp.nsolve(equation, x, guess)\n",
    "    roots.append(root)\n",
    "\n",
    "# Display the approximate roots\n",
    "for i, root in enumerate(roots):\n",
    "    print(f\"Root {i + 1}: {root.evalf()}\")\n"
   ]
  },
  {
   "cell_type": "markdown",
   "id": "18033fa8-529c-4e14-9e0e-3714e4f4d814",
   "metadata": {},
   "source": [
    "30. Write a program that calculates the BMI (Body Mass Index) and provides health recommendations based\n",
    "on the user's input."
   ]
  },
  {
   "cell_type": "code",
   "execution_count": 14,
   "id": "fedd05d7-cdf2-4d69-bcaa-105a224c4b1f",
   "metadata": {},
   "outputs": [
    {
     "name": "stdin",
     "output_type": "stream",
     "text": [
      "Enter your height in meters:  14\n",
      "Enter your weight in kilograms:  52\n"
     ]
    },
    {
     "name": "stdout",
     "output_type": "stream",
     "text": [
      "Your BMI is: 0.27\n",
      "You are underweight. It is recommended to consult a doctor or nutritionist.\n"
     ]
    }
   ],
   "source": [
    "# Input height and weight from the user\n",
    "height_meters = float(input(\"Enter your height in meters: \"))\n",
    "weight_kg = float(input(\"Enter your weight in kilograms: \"))\n",
    "\n",
    "# Calculate BMI\n",
    "bmi = weight_kg / (height_meters ** 2)\n",
    "\n",
    "# Print BMI and health recommendations\n",
    "print(f\"Your BMI is: {bmi:.2f}\")\n",
    "\n",
    "if bmi < 18.5:\n",
    "    print(\"You are underweight. It is recommended to consult a doctor or nutritionist.\")\n",
    "elif 18.5 <= bmi < 24.9:\n",
    "    print(\"Your weight is normal. Keep up the good work!\")\n",
    "elif 25 <= bmi < 29.9:\n",
    "    print(\"You are overweight. Consider exercising and maintaining a healthy diet.\")\n",
    "else:\n",
    "    print(\"You are obese. It is strongly recommended to consult a doctor and make significant changes to your lifestyle.\")\n"
   ]
  },
  {
   "cell_type": "markdown",
   "id": "c2124af0-0498-45e4-b8e2-85a60d188810",
   "metadata": {},
   "source": [
    "# Challenge Level:"
   ]
  },
  {
   "cell_type": "markdown",
   "id": "6f9ae867-3c99-4dec-916b-daf76f3a211f",
   "metadata": {},
   "source": [
    "31. Create a program that validates a password based on complexity rules (length, characters, etc.)."
   ]
  },
  {
   "cell_type": "code",
   "execution_count": 16,
   "id": "403e30d2-79bf-42db-8258-5d8f4e95fef2",
   "metadata": {},
   "outputs": [
    {
     "name": "stdin",
     "output_type": "stream",
     "text": [
      "Enter a password:  AURo@12345\n"
     ]
    },
    {
     "name": "stdout",
     "output_type": "stream",
     "text": [
      "Password is valid.\n"
     ]
    }
   ],
   "source": [
    "import re\n",
    "\n",
    "def is_valid_password(password):\n",
    "    # Check the length of the password (at least 8 characters)\n",
    "    if len(password) < 8:\n",
    "        return False\n",
    "\n",
    "    # Check if the password contains at least one uppercase letter\n",
    "    if not re.search(r'[A-Z]', password):\n",
    "        return False\n",
    "\n",
    "    # Check if the password contains at least one lowercase letter\n",
    "    if not re.search(r'[a-z]', password):\n",
    "        return False\n",
    "\n",
    "    # Check if the password contains at least one digit\n",
    "    if not re.search(r'[0-9]', password):\n",
    "        return False\n",
    "\n",
    "    # Check if the password contains at least one special character (e.g., !@#$%^&*)\n",
    "    if not re.search(r'[!@#$%^&*]', password):\n",
    "        return False\n",
    "\n",
    "    # If all checks pass, the password is valid\n",
    "    return True\n",
    "\n",
    "# Get the password from the user\n",
    "password = input(\"Enter a password: \")\n",
    "\n",
    "# Check if the password is valid\n",
    "if is_valid_password(password):\n",
    "    print(\"Password is valid.\")\n",
    "else:\n",
    "    print(\"Password is not valid. Please ensure it meets the complexity requirements.\")\n"
   ]
  },
  {
   "cell_type": "markdown",
   "id": "8a4c6297-fe2e-4036-8989-a6272a7418be",
   "metadata": {},
   "source": [
    "32. Develop a program that performs matrix addition and subtraction based on user input."
   ]
  },
  {
   "cell_type": "code",
   "execution_count": 17,
   "id": "059aa3e8-e17a-4f12-91be-a34250c02be1",
   "metadata": {},
   "outputs": [
    {
     "name": "stdin",
     "output_type": "stream",
     "text": [
      "Enter the number of rows:  2\n",
      "Enter the number of columns:  2\n"
     ]
    },
    {
     "name": "stdout",
     "output_type": "stream",
     "text": [
      "Enter elements for the first matrix:\n"
     ]
    },
    {
     "name": "stdin",
     "output_type": "stream",
     "text": [
      "Element [1][1]:  0\n",
      "Element [1][2]:  1\n",
      "Element [2][1]:  1\n",
      "Element [2][2]:  0\n"
     ]
    },
    {
     "name": "stdout",
     "output_type": "stream",
     "text": [
      "Enter elements for the second matrix:\n"
     ]
    },
    {
     "name": "stdin",
     "output_type": "stream",
     "text": [
      "Element [1][1]:  1\n",
      "Element [1][2]:  0\n",
      "Element [2][1]:  0\n",
      "Element [2][2]:  1\n"
     ]
    },
    {
     "name": "stdout",
     "output_type": "stream",
     "text": [
      "\n",
      "Matrix Addition Result:\n",
      "1 1\n",
      "1 1\n",
      "\n",
      "Matrix Subtraction Result:\n",
      "-1 1\n",
      "1 -1\n"
     ]
    }
   ],
   "source": [
    "def matrix_addition(matrix1, matrix2):\n",
    "    if len(matrix1) != len(matrix2) or len(matrix1[0]) != len(matrix2[0]):\n",
    "        return None  # Matrices must have the same dimensions for addition\n",
    "\n",
    "    result = []\n",
    "    for i in range(len(matrix1)):\n",
    "        row = []\n",
    "        for j in range(len(matrix1[0])):\n",
    "            row.append(matrix1[i][j] + matrix2[i][j])\n",
    "        result.append(row)\n",
    "    return result\n",
    "\n",
    "def matrix_subtraction(matrix1, matrix2):\n",
    "    if len(matrix1) != len(matrix2) or len(matrix1[0]) != len(matrix2[0]):\n",
    "        return None  # Matrices must have the same dimensions for subtraction\n",
    "\n",
    "    result = []\n",
    "    for i in range(len(matrix1)):\n",
    "        row = []\n",
    "        for j in range(len(matrix1[0])):\n",
    "            row.append(matrix1[i][j] - matrix2[i][j])\n",
    "        result.append(row)\n",
    "    return result\n",
    "\n",
    "def print_matrix(matrix):\n",
    "    for row in matrix:\n",
    "        print(\" \".join(map(str, row)))\n",
    "\n",
    "# Get matrix dimensions from the user\n",
    "rows = int(input(\"Enter the number of rows: \"))\n",
    "cols = int(input(\"Enter the number of columns: \"))\n",
    "\n",
    "# Initialize matrices with user input\n",
    "print(\"Enter elements for the first matrix:\")\n",
    "matrix1 = [[int(input(f\"Element [{i + 1}][{j + 1}]: \")) for j in range(cols)] for i in range(rows)]\n",
    "\n",
    "print(\"Enter elements for the second matrix:\")\n",
    "matrix2 = [[int(input(f\"Element [{i + 1}][{j + 1}]: \")) for j in range(cols)] for i in range(rows)]\n",
    "\n",
    "# Perform addition and subtraction\n",
    "addition_result = matrix_addition(matrix1, matrix2)\n",
    "subtraction_result = matrix_subtraction(matrix1, matrix2)\n",
    "\n",
    "# Display results\n",
    "if addition_result is not None:\n",
    "    print(\"\\nMatrix Addition Result:\")\n",
    "    print_matrix(addition_result)\n",
    "else:\n",
    "    print(\"\\nMatrix addition is not possible due to different dimensions.\")\n",
    "\n",
    "if subtraction_result is not None:\n",
    "    print(\"\\nMatrix Subtraction Result:\")\n",
    "    print_matrix(subtraction_result)\n",
    "else:\n",
    "    print(\"\\nMatrix subtraction is not possible due to different dimensions.\")\n"
   ]
  },
  {
   "cell_type": "markdown",
   "id": "8e586238-739d-4072-b180-a2bcea6c287c",
   "metadata": {},
   "source": [
    "33. Write a program that calculates the greatest common divisor (GCD) of two numbers using the Euclidean\n",
    "algorithm."
   ]
  },
  {
   "cell_type": "code",
   "execution_count": 18,
   "id": "5f360b18-f2ba-4821-b017-398f7df41351",
   "metadata": {},
   "outputs": [
    {
     "name": "stdin",
     "output_type": "stream",
     "text": [
      "Enter the first number:  10\n",
      "Enter the second number:  2\n"
     ]
    },
    {
     "name": "stdout",
     "output_type": "stream",
     "text": [
      "The GCD of 10 and 2 is 2\n"
     ]
    }
   ],
   "source": [
    "def gcd_euclidean(a, b):\n",
    "    while b:\n",
    "        a, b = b, a % b\n",
    "    return a\n",
    "\n",
    "# Input two numbers from the user\n",
    "num1 = int(input(\"Enter the first number: \"))\n",
    "num2 = int(input(\"Enter the second number: \"))\n",
    "\n",
    "# Calculate the GCD using the Euclidean algorithm\n",
    "result = gcd_euclidean(num1, num2)\n",
    "\n",
    "# Display the GCD\n",
    "print(f\"The GCD of {num1} and {num2} is {result}\")\n"
   ]
  },
  {
   "cell_type": "markdown",
   "id": "cee34170-3a3d-4bd7-99eb-1797775607da",
   "metadata": {},
   "source": [
    "34. Build a program that performs matrix multiplication using nested loops and conditional statements."
   ]
  },
  {
   "cell_type": "code",
   "execution_count": 24,
   "id": "39a2cf10-ed7c-4a26-8136-60e8b128231e",
   "metadata": {},
   "outputs": [
    {
     "name": "stdin",
     "output_type": "stream",
     "text": [
      "Enter the number of rows for the first matrix:  2\n",
      "Enter the number of columns for the first matrix:  2\n",
      "Enter the number of rows for the second matrix:  2\n",
      "Enter the number of columns for the second matrix:  2\n"
     ]
    },
    {
     "name": "stdout",
     "output_type": "stream",
     "text": [
      "Enter elements of the first matrix:\n"
     ]
    },
    {
     "name": "stdin",
     "output_type": "stream",
     "text": [
      "Enter element at row 1, column 1:  5\n",
      "Enter element at row 1, column 2:  7\n",
      "Enter element at row 2, column 1:  1\n",
      "Enter element at row 2, column 2:  3\n"
     ]
    },
    {
     "name": "stdout",
     "output_type": "stream",
     "text": [
      "Enter elements of the second matrix:\n"
     ]
    },
    {
     "name": "stdin",
     "output_type": "stream",
     "text": [
      "Enter element at row 1, column 1:  2\n",
      "Enter element at row 1, column 2:  4\n",
      "Enter element at row 2, column 1:  6\n",
      "Enter element at row 2, column 2:  8\n"
     ]
    },
    {
     "name": "stdout",
     "output_type": "stream",
     "text": [
      "Result of matrix multiplication:\n",
      "[52, 76]\n",
      "[20, 28]\n"
     ]
    }
   ],
   "source": [
    "def matrix_multiply(matrix1, matrix2):\n",
    "    # Check if matrix multiplication is possible\n",
    "    if len(matrix1[0]) != len(matrix2):\n",
    "        print(\"Matrix multiplication is not possible.\")\n",
    "        return None\n",
    "\n",
    "    # Initialize the result matrix with zeros\n",
    "    result = [[0 for _ in range(len(matrix2[0]))] for _ in range(len(matrix1))]\n",
    "\n",
    "    # Perform matrix multiplication\n",
    "    for i in range(len(matrix1)):\n",
    "        for j in range(len(matrix2[0])):\n",
    "            for k in range(len(matrix2)):\n",
    "                result[i][j] += matrix1[i][k] * matrix2[k][j]\n",
    "\n",
    "    return result\n",
    "\n",
    "# Input matrices from the user\n",
    "rows1 = int(input(\"Enter the number of rows for the first matrix: \"))\n",
    "cols1 = int(input(\"Enter the number of columns for the first matrix: \"))\n",
    "rows2 = int(input(\"Enter the number of rows for the second matrix: \"))\n",
    "cols2 = int(input(\"Enter the number of columns for the second matrix: \"))\n",
    "\n",
    "# Check if matrix multiplication is possible\n",
    "if cols1 != rows2:\n",
    "    print(\"Matrix multiplication is not possible.\")\n",
    "else:\n",
    "    # Input the elements of the matrices\n",
    "    matrix1 = [[0 for _ in range(cols1)] for _ in range(rows1)]\n",
    "    matrix2 = [[0 for _ in range(cols2)] for _ in range(rows2)]\n",
    "\n",
    "    print(\"Enter elements of the first matrix:\")\n",
    "    for i in range(rows1):\n",
    "        for j in range(cols1):\n",
    "            matrix1[i][j] = int(input(f\"Enter element at row {i+1}, column {j+1}: \"))\n",
    "\n",
    "    print(\"Enter elements of the second matrix:\")\n",
    "    for i in range(rows2):\n",
    "        for j in range(cols2):\n",
    "            matrix2[i][j] = int(input(f\"Enter element at row {i+1}, column {j+1}: \"))\n",
    "\n",
    "    # Perform matrix multiplication\n",
    "    result_matrix = matrix_multiply(matrix1, matrix2)\n",
    "\n",
    "    # Display the result matrix\n",
    "    if result_matrix:\n",
    "        print(\"Result of matrix multiplication:\")\n",
    "        for row in result_matrix:\n",
    "            print(row)\n"
   ]
  },
  {
   "cell_type": "markdown",
   "id": "c686e5ea-6aca-4d4a-8e88-0d65801e643f",
   "metadata": {},
   "source": [
    "35. Create a program that simulates a basic text-based tic-tac-toe game against the computer."
   ]
  },
  {
   "cell_type": "code",
   "execution_count": 25,
   "id": "d8ee5d36-197b-42b0-90e3-3589916b53e0",
   "metadata": {},
   "outputs": [
    {
     "name": "stdout",
     "output_type": "stream",
     "text": [
      "Welcome to Tic-Tac-Toe!\n",
      "  |   |  \n",
      "---------\n",
      "  |   |  \n",
      "---------\n",
      "  |   |  \n",
      "---------\n"
     ]
    },
    {
     "name": "stdin",
     "output_type": "stream",
     "text": [
      "Enter the row (1, 2, or 3):  1\n",
      "Enter the column (1, 2, or 3):  1\n"
     ]
    },
    {
     "name": "stdout",
     "output_type": "stream",
     "text": [
      "X |   |  \n",
      "---------\n",
      "  |   |  \n",
      "---------\n",
      "  |   |  \n",
      "---------\n",
      "Computer's move:\n",
      "X |   |  \n",
      "---------\n",
      "  | O |  \n",
      "---------\n",
      "  |   |  \n",
      "---------\n"
     ]
    },
    {
     "name": "stdin",
     "output_type": "stream",
     "text": [
      "Enter the row (1, 2, or 3):  3\n",
      "Enter the column (1, 2, or 3):  1\n"
     ]
    },
    {
     "name": "stdout",
     "output_type": "stream",
     "text": [
      "X |   |  \n",
      "---------\n",
      "  | O |  \n",
      "---------\n",
      "X |   |  \n",
      "---------\n",
      "Computer's move:\n",
      "X | O |  \n",
      "---------\n",
      "  | O |  \n",
      "---------\n",
      "X |   |  \n",
      "---------\n"
     ]
    },
    {
     "name": "stdin",
     "output_type": "stream",
     "text": [
      "Enter the row (1, 2, or 3):  2\n",
      "Enter the column (1, 2, or 3):  1\n"
     ]
    },
    {
     "name": "stdout",
     "output_type": "stream",
     "text": [
      "X | O |  \n",
      "---------\n",
      "X | O |  \n",
      "---------\n",
      "X |   |  \n",
      "---------\n",
      "Congratulations! You win!\n"
     ]
    },
    {
     "name": "stdin",
     "output_type": "stream",
     "text": [
      "Do you want to play again? (yes/no):  no\n"
     ]
    },
    {
     "name": "stdout",
     "output_type": "stream",
     "text": [
      "Thanks for playing!\n"
     ]
    }
   ],
   "source": [
    "import random\n",
    "\n",
    "# Function to print the tic-tac-toe board\n",
    "def print_board(board):\n",
    "    for row in board:\n",
    "        print(\" | \".join(row))\n",
    "        print(\"-\" * 9)\n",
    "\n",
    "# Function to check if a player has won\n",
    "def check_win(board, player):\n",
    "    for row in board:\n",
    "        if all(cell == player for cell in row):\n",
    "            return True\n",
    "    for col in range(3):\n",
    "        if all(board[row][col] == player for row in range(3)):\n",
    "            return True\n",
    "    if all(board[i][i] == player for i in range(3)) or all(board[i][2 - i] == player for i in range(3)):\n",
    "        return True\n",
    "    return False\n",
    "\n",
    "# Function to check if the board is full\n",
    "def is_board_full(board):\n",
    "    return all(cell != ' ' for row in board for cell in row)\n",
    "\n",
    "# Main game loop\n",
    "def play_game():\n",
    "    board = [[' ' for _ in range(3)] for _ in range(3)]\n",
    "    player = 'X'\n",
    "    computer = 'O'\n",
    "\n",
    "    print(\"Welcome to Tic-Tac-Toe!\")\n",
    "    print_board(board)\n",
    "\n",
    "    while True:\n",
    "        # Player's move\n",
    "        while True:\n",
    "            try:\n",
    "                row = int(input(\"Enter the row (1, 2, or 3): \")) - 1\n",
    "                col = int(input(\"Enter the column (1, 2, or 3): \")) - 1\n",
    "                if row in range(3) and col in range(3) and board[row][col] == ' ':\n",
    "                    break\n",
    "                else:\n",
    "                    print(\"Invalid move. Try again.\")\n",
    "            except ValueError:\n",
    "                print(\"Invalid input. Enter row and column as integers.\")\n",
    "\n",
    "        board[row][col] = player\n",
    "        print_board(board)\n",
    "\n",
    "        if check_win(board, player):\n",
    "            print(\"Congratulations! You win!\")\n",
    "            break\n",
    "\n",
    "        if is_board_full(board):\n",
    "            print(\"It's a tie!\")\n",
    "            break\n",
    "\n",
    "        # Computer's move\n",
    "        while True:\n",
    "            computer_row = random.randint(0, 2)\n",
    "            computer_col = random.randint(0, 2)\n",
    "            if board[computer_row][computer_col] == ' ':\n",
    "                break\n",
    "\n",
    "        board[computer_row][computer_col] = computer\n",
    "        print(\"Computer's move:\")\n",
    "        print_board(board)\n",
    "\n",
    "        if check_win(board, computer):\n",
    "            print(\"Computer wins. Better luck next time!\")\n",
    "            break\n",
    "\n",
    "        if is_board_full(board):\n",
    "            print(\"It's a tie!\")\n",
    "            break\n",
    "\n",
    "    play_again = input(\"Do you want to play again? (yes/no): \")\n",
    "    if play_again.lower() == \"yes\":\n",
    "        play_game()\n",
    "    else:\n",
    "        print(\"Thanks for playing!\")\n",
    "\n",
    "# Start the game\n",
    "play_game()\n"
   ]
  },
  {
   "cell_type": "markdown",
   "id": "c1b2d6cf-a89b-4620-97ef-b43bf8073b2b",
   "metadata": {},
   "source": [
    "36. Write a program that generates Fibonacci numbers up to a specified term using iterative methods."
   ]
  },
  {
   "cell_type": "code",
   "execution_count": 26,
   "id": "adec8245-0900-4b36-9164-2a1e8613ccd2",
   "metadata": {},
   "outputs": [
    {
     "name": "stdin",
     "output_type": "stream",
     "text": [
      "Enter the number of Fibonacci terms to generate:  10\n"
     ]
    },
    {
     "name": "stdout",
     "output_type": "stream",
     "text": [
      "Fibonacci sequence:\n",
      "[0, 1, 1, 2, 3, 5, 8, 13, 21, 34]\n"
     ]
    }
   ],
   "source": [
    "def generate_fibonacci(n):\n",
    "    fibonacci_sequence = []\n",
    "    \n",
    "    # Initialize the first two Fibonacci numbers\n",
    "    a, b = 0, 1\n",
    "    \n",
    "    # Generate Fibonacci numbers up to the nth term\n",
    "    for _ in range(n):\n",
    "        fibonacci_sequence.append(a)\n",
    "        a, b = b, a + b\n",
    "\n",
    "    return fibonacci_sequence\n",
    "\n",
    "# Input the number of terms you want to generate\n",
    "n = int(input(\"Enter the number of Fibonacci terms to generate: \"))\n",
    "\n",
    "# Check for valid input\n",
    "if n <= 0:\n",
    "    print(\"Please enter a positive integer.\")\n",
    "else:\n",
    "    # Generate and print the Fibonacci sequence\n",
    "    fibonacci_sequence = generate_fibonacci(n)\n",
    "    print(\"Fibonacci sequence:\")\n",
    "    print(fibonacci_sequence)\n"
   ]
  },
  {
   "cell_type": "markdown",
   "id": "c3034d10-f437-44a8-9648-8f33eeb62eda",
   "metadata": {},
   "source": [
    "37. Develop a program that calculates the nth term of the Fibonacci sequence using memoization."
   ]
  },
  {
   "cell_type": "code",
   "execution_count": 27,
   "id": "55a5b0af-e543-4f38-9f21-7668dd5e6a3a",
   "metadata": {},
   "outputs": [
    {
     "name": "stdin",
     "output_type": "stream",
     "text": [
      "Enter the term (n) to calculate Fibonacci(n):  13\n"
     ]
    },
    {
     "name": "stdout",
     "output_type": "stream",
     "text": [
      "Fibonacci(13) = 233\n"
     ]
    }
   ],
   "source": [
    "# Initialize a dictionary to store Fibonacci values\n",
    "fib_cache = {}\n",
    "\n",
    "def fibonacci(n):\n",
    "    # Check if the value is already in the cache\n",
    "    if n in fib_cache:\n",
    "        return fib_cache[n]\n",
    "    \n",
    "    # Base cases: Fibonacci(0) = 0, Fibonacci(1) = 1\n",
    "    if n == 0:\n",
    "        result = 0\n",
    "    elif n == 1:\n",
    "        result = 1\n",
    "    else:\n",
    "        # Recursive case: Fibonacci(n) = Fibonacci(n-1) + Fibonacci(n-2)\n",
    "        result = fibonacci(n - 1) + fibonacci(n - 2)\n",
    "    \n",
    "    # Store the result in the cache\n",
    "    fib_cache[n] = result\n",
    "    return result\n",
    "\n",
    "# Input the desired term of the Fibonacci sequence\n",
    "n = int(input(\"Enter the term (n) to calculate Fibonacci(n): \"))\n",
    "\n",
    "# Check for valid input\n",
    "if n < 0:\n",
    "    print(\"Please enter a non-negative integer.\")\n",
    "else:\n",
    "    # Calculate and print the nth Fibonacci term\n",
    "    result = fibonacci(n)\n",
    "    print(f\"Fibonacci({n}) = {result}\")\n"
   ]
  },
  {
   "cell_type": "markdown",
   "id": "56a84fcf-7255-4b9b-b14e-27696a15b661",
   "metadata": {},
   "source": [
    "38. Create a program that generates a calendar for a given month and year using conditional statements."
   ]
  },
  {
   "cell_type": "code",
   "execution_count": 28,
   "id": "c797b2f4-8170-45bf-bd03-7f89c6ee76b4",
   "metadata": {},
   "outputs": [
    {
     "name": "stdin",
     "output_type": "stream",
     "text": [
      "Enter the year (e.g., 2023):  2020\n",
      "Enter the month (1-12):  5\n"
     ]
    },
    {
     "name": "stdout",
     "output_type": "stream",
     "text": [
      "Calendar for May 2020:\n",
      "\n",
      "      May 2020\n",
      "Mo Tu We Th Fr Sa Su\n",
      "             1  2  3\n",
      " 4  5  6  7  8  9 10\n",
      "11 12 13 14 15 16 17\n",
      "18 19 20 21 22 23 24\n",
      "25 26 27 28 29 30 31\n",
      "\n"
     ]
    }
   ],
   "source": [
    "import calendar\n",
    "\n",
    "# Input the year and month\n",
    "year = int(input(\"Enter the year (e.g., 2023): \"))\n",
    "month = int(input(\"Enter the month (1-12): \"))\n",
    "\n",
    "# Create a calendar for the specified month and year\n",
    "cal = calendar.month(year, month)\n",
    "\n",
    "# Print the calendar\n",
    "print(f\"Calendar for {calendar.month_name[month]} {year}:\\n\")\n",
    "print(cal)\n"
   ]
  },
  {
   "cell_type": "markdown",
   "id": "1fa585b0-0916-40d8-8a27-e5d5e8e2292b",
   "metadata": {},
   "source": [
    "39. Build a program that simulates a basic text-based blackjack game against the computer."
   ]
  },
  {
   "cell_type": "code",
   "execution_count": 29,
   "id": "ee8d2f0b-d13d-446b-b5c2-45f6e66facb6",
   "metadata": {},
   "outputs": [
    {
     "name": "stdout",
     "output_type": "stream",
     "text": [
      "\n",
      "Player's hand: ['Jack of Hearts', 'Five of Hearts']\n",
      "Dealer's upcard: Nine of Spades\n"
     ]
    },
    {
     "name": "stdin",
     "output_type": "stream",
     "text": [
      "Do you want to hit or stand?  hit\n"
     ]
    },
    {
     "name": "stdout",
     "output_type": "stream",
     "text": [
      "\n",
      "Player's hand: ['Jack of Hearts', 'Five of Hearts', 'Nine of Diamonds']\n",
      "Dealer's upcard: Nine of Spades\n",
      "Player busts! Dealer wins!\n"
     ]
    }
   ],
   "source": [
    "import random\n",
    "\n",
    "# Define the deck of cards\n",
    "suits = ['Hearts', 'Diamonds', 'Clubs', 'Spades']\n",
    "ranks = ['Two', 'Three', 'Four', 'Five', 'Six', 'Seven', 'Eight', 'Nine', 'Ten', 'Jack', 'Queen', 'King', 'Ace']\n",
    "values = {'Two': 2, 'Three': 3, 'Four': 4, 'Five': 5, 'Six': 6, 'Seven': 7, 'Eight': 8, 'Nine': 9, 'Ten': 10, \n",
    "          'Jack': 10, 'Queen': 10, 'King': 10, 'Ace': 11}\n",
    "\n",
    "# Define a function to create a deck of cards\n",
    "def create_deck():\n",
    "    deck = []\n",
    "    for suit in suits:\n",
    "        for rank in ranks:\n",
    "            deck.append(f'{rank} of {suit}')\n",
    "    return deck\n",
    "\n",
    "# Define a function to calculate the total value of a hand\n",
    "def calculate_hand_value(hand):\n",
    "    value = 0\n",
    "    aces = 0\n",
    "    for card in hand:\n",
    "        rank = card.split()[0]\n",
    "        value += values[rank]\n",
    "        if rank == 'Ace':\n",
    "            aces += 1\n",
    "    while aces > 0 and value > 21:\n",
    "        value -= 10\n",
    "        aces -= 1\n",
    "    return value\n",
    "\n",
    "# Create the deck and shuffle it\n",
    "deck = create_deck()\n",
    "random.shuffle(deck)\n",
    "\n",
    "# Initialize player and dealer hands\n",
    "player_hand = [deck.pop(), deck.pop()]\n",
    "dealer_hand = [deck.pop(), deck.pop()]\n",
    "\n",
    "# Game loop\n",
    "while True:\n",
    "    # Display player's hand and dealer's upcard\n",
    "    print(\"\\nPlayer's hand:\", player_hand)\n",
    "    print(\"Dealer's upcard:\", dealer_hand[0])\n",
    "    \n",
    "    # Check for player blackjack or bust\n",
    "    if calculate_hand_value(player_hand) == 21:\n",
    "        print(\"Player has a blackjack! Player wins!\")\n",
    "        break\n",
    "    elif calculate_hand_value(player_hand) > 21:\n",
    "        print(\"Player busts! Dealer wins!\")\n",
    "        break\n",
    "    \n",
    "    # Ask the player to hit or stand\n",
    "    action = input(\"Do you want to hit or stand? \").lower()\n",
    "    \n",
    "    if action == 'hit':\n",
    "        player_hand.append(deck.pop())\n",
    "    elif action == 'stand':\n",
    "        # Dealer's turn\n",
    "        while calculate_hand_value(dealer_hand) < 17:\n",
    "            dealer_hand.append(deck.pop())\n",
    "        \n",
    "        # Display final hands\n",
    "        print(\"\\nPlayer's hand:\", player_hand)\n",
    "        print(\"Dealer's hand:\", dealer_hand)\n",
    "        \n",
    "        # Determine the winner\n",
    "        player_value = calculate_hand_value(player_hand)\n",
    "        dealer_value = calculate_hand_value(dealer_hand)\n",
    "        if dealer_value > 21 or player_value > dealer_value:\n",
    "            print(\"Player wins!\")\n",
    "        elif dealer_value > player_value:\n",
    "            print(\"Dealer wins!\")\n",
    "        else:\n",
    "            print(\"It's a tie!\")\n",
    "        \n",
    "        break\n",
    "    else:\n",
    "        print(\"Invalid input. Please enter 'hit' or 'stand'.\")\n"
   ]
  },
  {
   "cell_type": "markdown",
   "id": "34b3a980-e20b-4407-b2e9-a24039a000d3",
   "metadata": {},
   "source": [
    "40. Write a program that generates the prime factors of a given number using trial division."
   ]
  },
  {
   "cell_type": "code",
   "execution_count": 35,
   "id": "b4f34287-c491-4603-9308-12e9cc76ecd3",
   "metadata": {},
   "outputs": [
    {
     "name": "stdout",
     "output_type": "stream",
     "text": [
      "[3, 3, 5]\n"
     ]
    }
   ],
   "source": [
    "def prime_factors(n):\n",
    "    # Function to find prime factors\n",
    "  factors = []  # creating empty list to store numbers\n",
    "  for i in range(2, int(n**0.5) + 1):  # looping\n",
    "    while n % i == 0:\n",
    "      factors.append(i)\n",
    "      n //= i\n",
    "  if n > 1:\n",
    "    factors.append(n)\n",
    "  return factors\n",
    "\n",
    "# Displaying the prime factors\n",
    "print(prime_factors(45))\n"
   ]
  }
 ],
 "metadata": {
  "kernelspec": {
   "display_name": "Python 3 (ipykernel)",
   "language": "python",
   "name": "python3"
  },
  "language_info": {
   "codemirror_mode": {
    "name": "ipython",
    "version": 3
   },
   "file_extension": ".py",
   "mimetype": "text/x-python",
   "name": "python",
   "nbconvert_exporter": "python",
   "pygments_lexer": "ipython3",
   "version": "3.10.8"
  }
 },
 "nbformat": 4,
 "nbformat_minor": 5
}
